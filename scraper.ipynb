{
  "nbformat": 4,
  "nbformat_minor": 0,
  "metadata": {
    "colab": {
      "name": "scraper.ipynb",
      "provenance": [],
      "authorship_tag": "ABX9TyN9NsdocvNbni0PI93v7ZIS",
      "include_colab_link": true
    },
    "kernelspec": {
      "name": "python3",
      "display_name": "Python 3"
    }
  },
  "cells": [
    {
      "cell_type": "markdown",
      "metadata": {
        "id": "view-in-github",
        "colab_type": "text"
      },
      "source": [
        "<a href=\"https://colab.research.google.com/github/parasgulati8/Web-Scraper/blob/master/scraper.ipynb\" target=\"_parent\"><img src=\"https://colab.research.google.com/assets/colab-badge.svg\" alt=\"Open In Colab\"/></a>"
      ]
    },
    {
      "cell_type": "code",
      "metadata": {
        "id": "MSDQMc2zmTMR",
        "colab_type": "code",
        "colab": {}
      },
      "source": [
        "# import glob\n",
        "import pandas as pd\n",
        "import numpy as np\n",
        "import time\n",
        "from bs4 import BeautifulSoup as bs\n",
        "# import urllib3\n",
        "import requests\n",
        "# import json\n",
        "# from urllib.request import urlopen, urlretrieve, quote\n",
        "# from openpyxl import Workbook\n",
        "import re"
      ],
      "execution_count": 0,
      "outputs": []
    },
    {
      "cell_type": "code",
      "metadata": {
        "id": "cFXlItdRoHb7",
        "colab_type": "code",
        "colab": {}
      },
      "source": [
        "page = requests.get('http://www.padctn.org/prc/property/1/card/1/historical')"
      ],
      "execution_count": 0,
      "outputs": []
    },
    {
      "cell_type": "code",
      "metadata": {
        "id": "s3HNZXIDoMqq",
        "colab_type": "code",
        "colab": {}
      },
      "source": [
        "soup = bs(page.text, 'html.parser')\n",
        "# u = urlopen(site)"
      ],
      "execution_count": 0,
      "outputs": []
    },
    {
      "cell_type": "code",
      "metadata": {
        "id": "lg1qbcqVvaE0",
        "colab_type": "code",
        "colab": {
          "base_uri": "https://localhost:8080/",
          "height": 34
        },
        "outputId": "ea9e7ce8-aac0-4af6-b6bc-48a285c1fee5"
      },
      "source": [
        "soup.h2.text"
      ],
      "execution_count": 7,
      "outputs": [
        {
          "output_type": "execute_result",
          "data": {
            "text/plain": [
              "'Historical Details - Map & Parcel 001 00 0 001.00'"
            ]
          },
          "metadata": {
            "tags": []
          },
          "execution_count": 7
        }
      ]
    },
    {
      "cell_type": "code",
      "metadata": {
        "id": "XmUOOLDvxOF2",
        "colab_type": "code",
        "colab": {
          "base_uri": "https://localhost:8080/",
          "height": 34
        },
        "outputId": "36877ce9-0e42-4cbb-f5b7-1a67a86da278"
      },
      "source": [
        "' '.join(parcel.split()[6:])"
      ],
      "execution_count": 18,
      "outputs": [
        {
          "output_type": "execute_result",
          "data": {
            "text/plain": [
              "'001 00 0 001.00'"
            ]
          },
          "metadata": {
            "tags": []
          },
          "execution_count": 18
        }
      ]
    },
    {
      "cell_type": "code",
      "metadata": {
        "id": "_KPh_uR3wCud",
        "colab_type": "code",
        "colab": {
          "base_uri": "https://localhost:8080/",
          "height": 142
        },
        "outputId": "ce16c6d5-2502-4739-9311-6d13c8136bd8"
      },
      "source": [
        "url = 'http://www.padctn.org/prc/property/1/card/1/historical'\n",
        "page = requests.get(url)\n",
        "soup = bs(page.text, 'html.parser')\n",
        "parcel = soup.h2.text[34:]\n",
        "# parcel = ' '.join(parcel.split()[6:])\n",
        "df = pd.read_html(requests.get(url,  headers={'User-agent': 'Mozilla/5.0'}).text,\n",
        "                      attrs={\"class\":\"table table-condensed table-bordered\"})[0]\n",
        "\n",
        "df['Parcel'] = [parcel]*len(df)\n",
        "df"
      ],
      "execution_count": 41,
      "outputs": [
        {
          "output_type": "execute_result",
          "data": {
            "text/html": [
              "<div>\n",
              "<style scoped>\n",
              "    .dataframe tbody tr th:only-of-type {\n",
              "        vertical-align: middle;\n",
              "    }\n",
              "\n",
              "    .dataframe tbody tr th {\n",
              "        vertical-align: top;\n",
              "    }\n",
              "\n",
              "    .dataframe thead th {\n",
              "        text-align: right;\n",
              "    }\n",
              "</style>\n",
              "<table border=\"1\" class=\"dataframe\">\n",
              "  <thead>\n",
              "    <tr style=\"text-align: right;\">\n",
              "      <th></th>\n",
              "      <th>Sale Date</th>\n",
              "      <th>Sale Price</th>\n",
              "      <th>Deed Type</th>\n",
              "      <th>Deed Book &amp; Page</th>\n",
              "      <th>Parcel</th>\n",
              "    </tr>\n",
              "  </thead>\n",
              "  <tbody>\n",
              "    <tr>\n",
              "      <th>0</th>\n",
              "      <td>12/05/2006</td>\n",
              "      <td>$7,500</td>\n",
              "      <td>DEED OF CORRECTION</td>\n",
              "      <td>20110805-0060547</td>\n",
              "      <td>001 00 0 001.00</td>\n",
              "    </tr>\n",
              "    <tr>\n",
              "      <th>1</th>\n",
              "      <td>12/05/2006</td>\n",
              "      <td>$7,500</td>\n",
              "      <td>WARRANTY DEED</td>\n",
              "      <td>20070109-0003943</td>\n",
              "      <td>001 00 0 001.00</td>\n",
              "    </tr>\n",
              "    <tr>\n",
              "      <th>2</th>\n",
              "      <td>09/15/1965</td>\n",
              "      <td>$0</td>\n",
              "      <td>WARRANTY DEED</td>\n",
              "      <td>00000137-0000216</td>\n",
              "      <td>001 00 0 001.00</td>\n",
              "    </tr>\n",
              "  </tbody>\n",
              "</table>\n",
              "</div>"
            ],
            "text/plain": [
              "    Sale Date Sale Price           Deed Type  Deed Book & Page           Parcel\n",
              "0  12/05/2006     $7,500  DEED OF CORRECTION  20110805-0060547  001 00 0 001.00\n",
              "1  12/05/2006     $7,500       WARRANTY DEED  20070109-0003943  001 00 0 001.00\n",
              "2  09/15/1965         $0       WARRANTY DEED  00000137-0000216  001 00 0 001.00"
            ]
          },
          "metadata": {
            "tags": []
          },
          "execution_count": 41
        }
      ]
    },
    {
      "cell_type": "code",
      "metadata": {
        "id": "5BcX6ATh3qlh",
        "colab_type": "code",
        "colab": {
          "base_uri": "https://localhost:8080/",
          "height": 34
        },
        "outputId": "bbaf9cd2-f94d-4adf-b7cf-393eefedeb16"
      },
      "source": [
        "parcel[34:]"
      ],
      "execution_count": 39,
      "outputs": [
        {
          "output_type": "execute_result",
          "data": {
            "text/plain": [
              "'001 00 0 001.00'"
            ]
          },
          "metadata": {
            "tags": []
          },
          "execution_count": 39
        }
      ]
    },
    {
      "cell_type": "code",
      "metadata": {
        "id": "-KQaPPk226xX",
        "colab_type": "code",
        "colab": {
          "base_uri": "https://localhost:8080/",
          "height": 34
        },
        "outputId": "5c6148a6-0584-4b53-b080-074b32ceb76f"
      },
      "source": [
        "re.findall(r'\\d+', parcel)"
      ],
      "execution_count": 33,
      "outputs": [
        {
          "output_type": "execute_result",
          "data": {
            "text/plain": [
              "['001 ', '00 ', '0 ']"
            ]
          },
          "metadata": {
            "tags": []
          },
          "execution_count": 33
        }
      ]
    },
    {
      "cell_type": "code",
      "metadata": {
        "id": "8UGYQ3xVoR3g",
        "colab_type": "code",
        "colab": {}
      },
      "source": [
        "table = soup.table"
      ],
      "execution_count": 0,
      "outputs": []
    },
    {
      "cell_type": "code",
      "metadata": {
        "id": "dulb6pIdHw9c",
        "colab_type": "code",
        "outputId": "f5e87aa7-379b-497e-83a0-5ba621e61dac",
        "colab": {
          "base_uri": "https://localhost:8080/",
          "height": 118
        }
      },
      "source": [
        "table"
      ],
      "execution_count": 0,
      "outputs": [
        {
          "output_type": "execute_result",
          "data": {
            "text/plain": [
              "<table class=\"table table-condensed table-bordered\">\n",
              "<tr><th>Sale Date</th><th>Sale Price</th><th>Deed Type</th><th>Deed Book &amp; Page</th></tr>\n",
              "<tr><td>12/05/2006</td><td>$7,500</td><td>DEED OF CORRECTION</td><td>20110805-0060547</td></tr>\n",
              "<tr><td>12/05/2006</td><td>$7,500</td><td>WARRANTY DEED</td><td>20070109-0003943</td></tr>\n",
              "<tr><td>09/15/1965</td><td>$0</td><td>WARRANTY DEED</td><td>00000137-0000216</td></tr>\n",
              "</table>"
            ]
          },
          "metadata": {
            "tags": []
          },
          "execution_count": 43
        }
      ]
    },
    {
      "cell_type": "code",
      "metadata": {
        "id": "AS2HjdtPAmGd",
        "colab_type": "code",
        "colab": {}
      },
      "source": [
        "rows = table.find_all('tr')"
      ],
      "execution_count": 0,
      "outputs": []
    },
    {
      "cell_type": "code",
      "metadata": {
        "id": "SbHdchawBFSk",
        "colab_type": "code",
        "outputId": "de1a4a51-6289-43a6-da2e-bef2ab59207a",
        "colab": {
          "base_uri": "https://localhost:8080/",
          "height": 84
        }
      },
      "source": [
        "rows"
      ],
      "execution_count": 0,
      "outputs": [
        {
          "output_type": "execute_result",
          "data": {
            "text/plain": [
              "[<tr><th>Sale Date</th><th>Sale Price</th><th>Deed Type</th><th>Deed Book &amp; Page</th></tr>,\n",
              " <tr><td>12/05/2006</td><td>$7,500</td><td>DEED OF CORRECTION</td><td>20110805-0060547</td></tr>,\n",
              " <tr><td>12/05/2006</td><td>$7,500</td><td>WARRANTY DEED</td><td>20070109-0003943</td></tr>,\n",
              " <tr><td>09/15/1965</td><td>$0</td><td>WARRANTY DEED</td><td>00000137-0000216</td></tr>]"
            ]
          },
          "metadata": {
            "tags": []
          },
          "execution_count": 23
        }
      ]
    },
    {
      "cell_type": "code",
      "metadata": {
        "id": "hk1_9reKA__c",
        "colab_type": "code",
        "outputId": "9ac15cf0-f407-459f-ca01-8eb29fe0f0c8",
        "colab": {
          "base_uri": "https://localhost:8080/",
          "height": 151
        }
      },
      "source": [
        "tuples = []\n",
        "for tr in rows:\n",
        "  td = tr.find_all('td')\n",
        "  th = tr.find_all('th')\n",
        "  print(th)\n",
        "  print([i.text for i in th])\n",
        "  # row = [i.text for i in th]\n",
        "  # tuples.append([i.text for i in th])\n",
        "  # if row:\n",
        "    # print(row)\n",
        "    # tuples.append(row)"
      ],
      "execution_count": 0,
      "outputs": [
        {
          "output_type": "stream",
          "text": [
            "[<th>Sale Date</th>, <th>Sale Price</th>, <th>Deed Type</th>, <th>Deed Book &amp; Page</th>]\n",
            "['Sale Date', 'Sale Price', 'Deed Type', 'Deed Book & Page']\n",
            "[]\n",
            "[]\n",
            "[]\n",
            "[]\n",
            "[]\n",
            "[]\n"
          ],
          "name": "stdout"
        }
      ]
    },
    {
      "cell_type": "code",
      "metadata": {
        "id": "NT6cKU6UCeQz",
        "colab_type": "code",
        "outputId": "e3d11711-8465-4ad6-f3cb-d72dfdf324b1",
        "colab": {
          "base_uri": "https://localhost:8080/",
          "height": 67
        }
      },
      "source": [
        "tuples"
      ],
      "execution_count": 0,
      "outputs": [
        {
          "output_type": "execute_result",
          "data": {
            "text/plain": [
              "[['12/05/2006', '$7,500', 'DEED OF CORRECTION', '20110805-0060547'],\n",
              " ['12/05/2006', '$7,500', 'WARRANTY DEED', '20070109-0003943'],\n",
              " ['09/15/1965', '$0', 'WARRANTY DEED', '00000137-0000216']]"
            ]
          },
          "metadata": {
            "tags": []
          },
          "execution_count": 31
        }
      ]
    },
    {
      "cell_type": "code",
      "metadata": {
        "id": "qxdtd3tgpwbo",
        "colab_type": "code",
        "colab": {}
      },
      "source": [
        "import pandas as pd"
      ],
      "execution_count": 0,
      "outputs": []
    },
    {
      "cell_type": "code",
      "metadata": {
        "id": "U6bhiMWSs31v",
        "colab_type": "code",
        "colab": {}
      },
      "source": [
        "url = 'http://www.padctn.org/prc/property/1/card/1/historical'\n",
        "dfs = pd.read_html(requests.get(url,  headers={'User-agent': 'Mozilla/5.0'}).text,\n",
        "                      attrs={\"class\":\"table table-condensed table-bordered\"})"
      ],
      "execution_count": 0,
      "outputs": []
    },
    {
      "cell_type": "code",
      "metadata": {
        "id": "s0cDg6vjw4Y5",
        "colab_type": "code",
        "outputId": "4a19151b-15a4-4806-9931-ad273268dea3",
        "colab": {
          "base_uri": "https://localhost:8080/",
          "height": 402
        }
      },
      "source": [
        "dfs[1]"
      ],
      "execution_count": 0,
      "outputs": [
        {
          "output_type": "execute_result",
          "data": {
            "text/html": [
              "<div>\n",
              "<style scoped>\n",
              "    .dataframe tbody tr th:only-of-type {\n",
              "        vertical-align: middle;\n",
              "    }\n",
              "\n",
              "    .dataframe tbody tr th {\n",
              "        vertical-align: top;\n",
              "    }\n",
              "\n",
              "    .dataframe thead th {\n",
              "        text-align: right;\n",
              "    }\n",
              "</style>\n",
              "<table border=\"1\" class=\"dataframe\">\n",
              "  <thead>\n",
              "    <tr style=\"text-align: right;\">\n",
              "      <th></th>\n",
              "      <th>Year</th>\n",
              "      <th>Land Use Code</th>\n",
              "      <th>Building</th>\n",
              "      <th>Yard Items</th>\n",
              "      <th>Land Value</th>\n",
              "      <th>Category</th>\n",
              "      <th>Total</th>\n",
              "    </tr>\n",
              "  </thead>\n",
              "  <tbody>\n",
              "    <tr>\n",
              "      <th>0</th>\n",
              "      <td>2017</td>\n",
              "      <td>0AR - AG/RES</td>\n",
              "      <td>$0</td>\n",
              "      <td>$0</td>\n",
              "      <td>$10,621</td>\n",
              "      <td>INF</td>\n",
              "      <td>$10,621</td>\n",
              "    </tr>\n",
              "    <tr>\n",
              "      <th>1</th>\n",
              "      <td>2017</td>\n",
              "      <td>0AR - AG/RES</td>\n",
              "      <td>$0</td>\n",
              "      <td>$0</td>\n",
              "      <td>$10,621</td>\n",
              "      <td>ROLL</td>\n",
              "      <td>$10,621</td>\n",
              "    </tr>\n",
              "    <tr>\n",
              "      <th>2</th>\n",
              "      <td>2013</td>\n",
              "      <td>0RA - RES/AGR</td>\n",
              "      <td>$0</td>\n",
              "      <td>$0</td>\n",
              "      <td>$8,565</td>\n",
              "      <td>INF</td>\n",
              "      <td>$8,565</td>\n",
              "    </tr>\n",
              "    <tr>\n",
              "      <th>3</th>\n",
              "      <td>2013</td>\n",
              "      <td>0RA - RES/AGR</td>\n",
              "      <td>$0</td>\n",
              "      <td>$0</td>\n",
              "      <td>$8,565</td>\n",
              "      <td>ROLL</td>\n",
              "      <td>$8,565</td>\n",
              "    </tr>\n",
              "    <tr>\n",
              "      <th>4</th>\n",
              "      <td>2009</td>\n",
              "      <td>0RA - RES/AGR</td>\n",
              "      <td>$0</td>\n",
              "      <td>$0</td>\n",
              "      <td>$6,909</td>\n",
              "      <td>INF</td>\n",
              "      <td>$6,909</td>\n",
              "    </tr>\n",
              "    <tr>\n",
              "      <th>5</th>\n",
              "      <td>2009</td>\n",
              "      <td>0RA - RES/AGR</td>\n",
              "      <td>$0</td>\n",
              "      <td>$0</td>\n",
              "      <td>$6,909</td>\n",
              "      <td>ROLL</td>\n",
              "      <td>$6,909</td>\n",
              "    </tr>\n",
              "    <tr>\n",
              "      <th>6</th>\n",
              "      <td>2008</td>\n",
              "      <td>0RA - RES/AGR</td>\n",
              "      <td>$0</td>\n",
              "      <td>$0</td>\n",
              "      <td>$5,572</td>\n",
              "      <td>JUNE</td>\n",
              "      <td>$5,572</td>\n",
              "    </tr>\n",
              "    <tr>\n",
              "      <th>7</th>\n",
              "      <td>2008</td>\n",
              "      <td>0RA - RES/AGR</td>\n",
              "      <td>$0</td>\n",
              "      <td>$0</td>\n",
              "      <td>$5,572</td>\n",
              "      <td>ROLL</td>\n",
              "      <td>$5,572</td>\n",
              "    </tr>\n",
              "    <tr>\n",
              "      <th>8</th>\n",
              "      <td>2005</td>\n",
              "      <td>E80 - EXE</td>\n",
              "      <td>$0</td>\n",
              "      <td>$0</td>\n",
              "      <td>$25,800</td>\n",
              "      <td>ROLL</td>\n",
              "      <td>$25,800</td>\n",
              "    </tr>\n",
              "    <tr>\n",
              "      <th>9</th>\n",
              "      <td>2001</td>\n",
              "      <td>E80 - EXE</td>\n",
              "      <td>$0</td>\n",
              "      <td>$0</td>\n",
              "      <td>$22,800</td>\n",
              "      <td>ROLL</td>\n",
              "      <td>$22,800</td>\n",
              "    </tr>\n",
              "    <tr>\n",
              "      <th>10</th>\n",
              "      <td>2000</td>\n",
              "      <td>E80 - EXE</td>\n",
              "      <td>$0</td>\n",
              "      <td>$0</td>\n",
              "      <td>$16,100</td>\n",
              "      <td>ROLL</td>\n",
              "      <td>$16,100</td>\n",
              "    </tr>\n",
              "    <tr>\n",
              "      <th>11</th>\n",
              "      <td>1999</td>\n",
              "      <td>E80 - EXE</td>\n",
              "      <td>$0</td>\n",
              "      <td>$0</td>\n",
              "      <td>$16,100</td>\n",
              "      <td>ROLL</td>\n",
              "      <td>$16,100</td>\n",
              "    </tr>\n",
              "  </tbody>\n",
              "</table>\n",
              "</div>"
            ],
            "text/plain": [
              "    Year  Land Use Code Building Yard Items Land Value Category    Total\n",
              "0   2017   0AR - AG/RES       $0         $0    $10,621      INF  $10,621\n",
              "1   2017   0AR - AG/RES       $0         $0    $10,621     ROLL  $10,621\n",
              "2   2013  0RA - RES/AGR       $0         $0     $8,565      INF   $8,565\n",
              "3   2013  0RA - RES/AGR       $0         $0     $8,565     ROLL   $8,565\n",
              "4   2009  0RA - RES/AGR       $0         $0     $6,909      INF   $6,909\n",
              "5   2009  0RA - RES/AGR       $0         $0     $6,909     ROLL   $6,909\n",
              "6   2008  0RA - RES/AGR       $0         $0     $5,572     JUNE   $5,572\n",
              "7   2008  0RA - RES/AGR       $0         $0     $5,572     ROLL   $5,572\n",
              "8   2005      E80 - EXE       $0         $0    $25,800     ROLL  $25,800\n",
              "9   2001      E80 - EXE       $0         $0    $22,800     ROLL  $22,800\n",
              "10  2000      E80 - EXE       $0         $0    $16,100     ROLL  $16,100\n",
              "11  1999      E80 - EXE       $0         $0    $16,100     ROLL  $16,100"
            ]
          },
          "metadata": {
            "tags": []
          },
          "execution_count": 83
        }
      ]
    },
    {
      "cell_type": "code",
      "metadata": {
        "id": "AgOqlBIFs7ut",
        "colab_type": "code",
        "colab": {
          "base_uri": "https://localhost:8080/",
          "height": 391
        },
        "outputId": "1b30ce89-ca10-4796-8880-f4d2c1b43c85"
      },
      "source": [
        "url = 'http://www.padctn.org/prc/property/1/card/1/historical'\n",
        "page = requests.get(url)\n",
        "soup = bs(page.text, 'html.parser')\n",
        "parcel = soup.h2.text\n",
        "parcel = ' '.join(parcel.split()[6:])\n",
        "df = pd.read_html(requests.get(url,  headers={'User-agent': 'Mozilla/5.0'}).text,\n",
        "                      attrs={\"class\":\"table table-condensed table-bordered\"})[0]\n",
        "\n",
        "df['Parcel'] = [parcel]*len(df)\n",
        "df['Property #'] = [1]*len(df)\n",
        "i = 2\n",
        "while True:\n",
        "  url = 'http://www.padctn.org/prc/property/' + str(i) + '/card/' + str(i) + '/historical'\n",
        "  page = requests.get(url)\n",
        "  soup = bs(page.text, 'html.parser')\n",
        "  parcel = soup.h2.text[34:]\n",
        "  # parcel = ' '.join(parcel.split()[6:])\n",
        "  \n",
        "  dfs = pd.read_html(requests.get(url,  headers={'User-agent': 'Mozilla/5.0'}).text,\n",
        "                        attrs={\"class\":\"table table-condensed table-bordered\"})\n",
        "  dfs[0]['Parcel'] = [parcel]*len(dfs[0])\n",
        "  dfs[0]['Property #'] = [i]*len(dfs[0])\n",
        "\n",
        "\n",
        "  print(i, end=' ')\n",
        "  if np.any(dfs[0]) or np.any(dfs[1]):\n",
        "    df = pd.concat([df, dfs[0]] )\n",
        "    i = i+1\n",
        "  else:\n",
        "    print ('Table Empty, Exiting...')\n",
        "    print (table)\n",
        "    break\n",
        "  if i % 10 == 1:\n",
        "    print()\n",
        "  # time.sleep(3)"
      ],
      "execution_count": 44,
      "outputs": [
        {
          "output_type": "stream",
          "text": [
            "2 3 4 5 6 "
          ],
          "name": "stdout"
        },
        {
          "output_type": "error",
          "ename": "KeyboardInterrupt",
          "evalue": "ignored",
          "traceback": [
            "\u001b[0;31m---------------------------------------------------------------------------\u001b[0m",
            "\u001b[0;31mKeyboardInterrupt\u001b[0m                         Traceback (most recent call last)",
            "\u001b[0;32m<ipython-input-44-8a728d2cc339>\u001b[0m in \u001b[0;36m<module>\u001b[0;34m()\u001b[0m\n\u001b[1;32m     12\u001b[0m \u001b[0;32mwhile\u001b[0m \u001b[0;32mTrue\u001b[0m\u001b[0;34m:\u001b[0m\u001b[0;34m\u001b[0m\u001b[0;34m\u001b[0m\u001b[0m\n\u001b[1;32m     13\u001b[0m   \u001b[0murl\u001b[0m \u001b[0;34m=\u001b[0m \u001b[0;34m'http://www.padctn.org/prc/property/'\u001b[0m \u001b[0;34m+\u001b[0m \u001b[0mstr\u001b[0m\u001b[0;34m(\u001b[0m\u001b[0mi\u001b[0m\u001b[0;34m)\u001b[0m \u001b[0;34m+\u001b[0m \u001b[0;34m'/card/'\u001b[0m \u001b[0;34m+\u001b[0m \u001b[0mstr\u001b[0m\u001b[0;34m(\u001b[0m\u001b[0mi\u001b[0m\u001b[0;34m)\u001b[0m \u001b[0;34m+\u001b[0m \u001b[0;34m'/historical'\u001b[0m\u001b[0;34m\u001b[0m\u001b[0;34m\u001b[0m\u001b[0m\n\u001b[0;32m---> 14\u001b[0;31m   \u001b[0mpage\u001b[0m \u001b[0;34m=\u001b[0m \u001b[0mrequests\u001b[0m\u001b[0;34m.\u001b[0m\u001b[0mget\u001b[0m\u001b[0;34m(\u001b[0m\u001b[0murl\u001b[0m\u001b[0;34m)\u001b[0m\u001b[0;34m\u001b[0m\u001b[0;34m\u001b[0m\u001b[0m\n\u001b[0m\u001b[1;32m     15\u001b[0m   \u001b[0msoup\u001b[0m \u001b[0;34m=\u001b[0m \u001b[0mbs\u001b[0m\u001b[0;34m(\u001b[0m\u001b[0mpage\u001b[0m\u001b[0;34m.\u001b[0m\u001b[0mtext\u001b[0m\u001b[0;34m,\u001b[0m \u001b[0;34m'html.parser'\u001b[0m\u001b[0;34m)\u001b[0m\u001b[0;34m\u001b[0m\u001b[0;34m\u001b[0m\u001b[0m\n\u001b[1;32m     16\u001b[0m   \u001b[0mparcel\u001b[0m \u001b[0;34m=\u001b[0m \u001b[0msoup\u001b[0m\u001b[0;34m.\u001b[0m\u001b[0mh2\u001b[0m\u001b[0;34m.\u001b[0m\u001b[0mtext\u001b[0m\u001b[0;34m[\u001b[0m\u001b[0;36m34\u001b[0m\u001b[0;34m:\u001b[0m\u001b[0;34m]\u001b[0m\u001b[0;34m\u001b[0m\u001b[0;34m\u001b[0m\u001b[0m\n",
            "\u001b[0;32m/usr/local/lib/python3.6/dist-packages/requests/api.py\u001b[0m in \u001b[0;36mget\u001b[0;34m(url, params, **kwargs)\u001b[0m\n\u001b[1;32m     74\u001b[0m \u001b[0;34m\u001b[0m\u001b[0m\n\u001b[1;32m     75\u001b[0m     \u001b[0mkwargs\u001b[0m\u001b[0;34m.\u001b[0m\u001b[0msetdefault\u001b[0m\u001b[0;34m(\u001b[0m\u001b[0;34m'allow_redirects'\u001b[0m\u001b[0;34m,\u001b[0m \u001b[0;32mTrue\u001b[0m\u001b[0;34m)\u001b[0m\u001b[0;34m\u001b[0m\u001b[0;34m\u001b[0m\u001b[0m\n\u001b[0;32m---> 76\u001b[0;31m     \u001b[0;32mreturn\u001b[0m \u001b[0mrequest\u001b[0m\u001b[0;34m(\u001b[0m\u001b[0;34m'get'\u001b[0m\u001b[0;34m,\u001b[0m \u001b[0murl\u001b[0m\u001b[0;34m,\u001b[0m \u001b[0mparams\u001b[0m\u001b[0;34m=\u001b[0m\u001b[0mparams\u001b[0m\u001b[0;34m,\u001b[0m \u001b[0;34m**\u001b[0m\u001b[0mkwargs\u001b[0m\u001b[0;34m)\u001b[0m\u001b[0;34m\u001b[0m\u001b[0;34m\u001b[0m\u001b[0m\n\u001b[0m\u001b[1;32m     77\u001b[0m \u001b[0;34m\u001b[0m\u001b[0m\n\u001b[1;32m     78\u001b[0m \u001b[0;34m\u001b[0m\u001b[0m\n",
            "\u001b[0;32m/usr/local/lib/python3.6/dist-packages/requests/api.py\u001b[0m in \u001b[0;36mrequest\u001b[0;34m(method, url, **kwargs)\u001b[0m\n\u001b[1;32m     59\u001b[0m     \u001b[0;31m# cases, and look like a memory leak in others.\u001b[0m\u001b[0;34m\u001b[0m\u001b[0;34m\u001b[0m\u001b[0;34m\u001b[0m\u001b[0m\n\u001b[1;32m     60\u001b[0m     \u001b[0;32mwith\u001b[0m \u001b[0msessions\u001b[0m\u001b[0;34m.\u001b[0m\u001b[0mSession\u001b[0m\u001b[0;34m(\u001b[0m\u001b[0;34m)\u001b[0m \u001b[0;32mas\u001b[0m \u001b[0msession\u001b[0m\u001b[0;34m:\u001b[0m\u001b[0;34m\u001b[0m\u001b[0;34m\u001b[0m\u001b[0m\n\u001b[0;32m---> 61\u001b[0;31m         \u001b[0;32mreturn\u001b[0m \u001b[0msession\u001b[0m\u001b[0;34m.\u001b[0m\u001b[0mrequest\u001b[0m\u001b[0;34m(\u001b[0m\u001b[0mmethod\u001b[0m\u001b[0;34m=\u001b[0m\u001b[0mmethod\u001b[0m\u001b[0;34m,\u001b[0m \u001b[0murl\u001b[0m\u001b[0;34m=\u001b[0m\u001b[0murl\u001b[0m\u001b[0;34m,\u001b[0m \u001b[0;34m**\u001b[0m\u001b[0mkwargs\u001b[0m\u001b[0;34m)\u001b[0m\u001b[0;34m\u001b[0m\u001b[0;34m\u001b[0m\u001b[0m\n\u001b[0m\u001b[1;32m     62\u001b[0m \u001b[0;34m\u001b[0m\u001b[0m\n\u001b[1;32m     63\u001b[0m \u001b[0;34m\u001b[0m\u001b[0m\n",
            "\u001b[0;32m/usr/local/lib/python3.6/dist-packages/requests/sessions.py\u001b[0m in \u001b[0;36mrequest\u001b[0;34m(self, method, url, params, data, headers, cookies, files, auth, timeout, allow_redirects, proxies, hooks, stream, verify, cert, json)\u001b[0m\n\u001b[1;32m    528\u001b[0m         }\n\u001b[1;32m    529\u001b[0m         \u001b[0msend_kwargs\u001b[0m\u001b[0;34m.\u001b[0m\u001b[0mupdate\u001b[0m\u001b[0;34m(\u001b[0m\u001b[0msettings\u001b[0m\u001b[0;34m)\u001b[0m\u001b[0;34m\u001b[0m\u001b[0;34m\u001b[0m\u001b[0m\n\u001b[0;32m--> 530\u001b[0;31m         \u001b[0mresp\u001b[0m \u001b[0;34m=\u001b[0m \u001b[0mself\u001b[0m\u001b[0;34m.\u001b[0m\u001b[0msend\u001b[0m\u001b[0;34m(\u001b[0m\u001b[0mprep\u001b[0m\u001b[0;34m,\u001b[0m \u001b[0;34m**\u001b[0m\u001b[0msend_kwargs\u001b[0m\u001b[0;34m)\u001b[0m\u001b[0;34m\u001b[0m\u001b[0;34m\u001b[0m\u001b[0m\n\u001b[0m\u001b[1;32m    531\u001b[0m \u001b[0;34m\u001b[0m\u001b[0m\n\u001b[1;32m    532\u001b[0m         \u001b[0;32mreturn\u001b[0m \u001b[0mresp\u001b[0m\u001b[0;34m\u001b[0m\u001b[0;34m\u001b[0m\u001b[0m\n",
            "\u001b[0;32m/usr/local/lib/python3.6/dist-packages/requests/sessions.py\u001b[0m in \u001b[0;36msend\u001b[0;34m(self, request, **kwargs)\u001b[0m\n\u001b[1;32m    641\u001b[0m \u001b[0;34m\u001b[0m\u001b[0m\n\u001b[1;32m    642\u001b[0m         \u001b[0;31m# Send the request\u001b[0m\u001b[0;34m\u001b[0m\u001b[0;34m\u001b[0m\u001b[0;34m\u001b[0m\u001b[0m\n\u001b[0;32m--> 643\u001b[0;31m         \u001b[0mr\u001b[0m \u001b[0;34m=\u001b[0m \u001b[0madapter\u001b[0m\u001b[0;34m.\u001b[0m\u001b[0msend\u001b[0m\u001b[0;34m(\u001b[0m\u001b[0mrequest\u001b[0m\u001b[0;34m,\u001b[0m \u001b[0;34m**\u001b[0m\u001b[0mkwargs\u001b[0m\u001b[0;34m)\u001b[0m\u001b[0;34m\u001b[0m\u001b[0;34m\u001b[0m\u001b[0m\n\u001b[0m\u001b[1;32m    644\u001b[0m \u001b[0;34m\u001b[0m\u001b[0m\n\u001b[1;32m    645\u001b[0m         \u001b[0;31m# Total elapsed time of the request (approximately)\u001b[0m\u001b[0;34m\u001b[0m\u001b[0;34m\u001b[0m\u001b[0;34m\u001b[0m\u001b[0m\n",
            "\u001b[0;32m/usr/local/lib/python3.6/dist-packages/requests/adapters.py\u001b[0m in \u001b[0;36msend\u001b[0;34m(self, request, stream, timeout, verify, cert, proxies)\u001b[0m\n\u001b[1;32m    447\u001b[0m                     \u001b[0mdecode_content\u001b[0m\u001b[0;34m=\u001b[0m\u001b[0;32mFalse\u001b[0m\u001b[0;34m,\u001b[0m\u001b[0;34m\u001b[0m\u001b[0;34m\u001b[0m\u001b[0m\n\u001b[1;32m    448\u001b[0m                     \u001b[0mretries\u001b[0m\u001b[0;34m=\u001b[0m\u001b[0mself\u001b[0m\u001b[0;34m.\u001b[0m\u001b[0mmax_retries\u001b[0m\u001b[0;34m,\u001b[0m\u001b[0;34m\u001b[0m\u001b[0;34m\u001b[0m\u001b[0m\n\u001b[0;32m--> 449\u001b[0;31m                     \u001b[0mtimeout\u001b[0m\u001b[0;34m=\u001b[0m\u001b[0mtimeout\u001b[0m\u001b[0;34m\u001b[0m\u001b[0;34m\u001b[0m\u001b[0m\n\u001b[0m\u001b[1;32m    450\u001b[0m                 )\n\u001b[1;32m    451\u001b[0m \u001b[0;34m\u001b[0m\u001b[0m\n",
            "\u001b[0;32m/usr/local/lib/python3.6/dist-packages/urllib3/connectionpool.py\u001b[0m in \u001b[0;36murlopen\u001b[0;34m(self, method, url, body, headers, retries, redirect, assert_same_host, timeout, pool_timeout, release_conn, chunked, body_pos, **response_kw)\u001b[0m\n\u001b[1;32m    598\u001b[0m                                                   \u001b[0mtimeout\u001b[0m\u001b[0;34m=\u001b[0m\u001b[0mtimeout_obj\u001b[0m\u001b[0;34m,\u001b[0m\u001b[0;34m\u001b[0m\u001b[0;34m\u001b[0m\u001b[0m\n\u001b[1;32m    599\u001b[0m                                                   \u001b[0mbody\u001b[0m\u001b[0;34m=\u001b[0m\u001b[0mbody\u001b[0m\u001b[0;34m,\u001b[0m \u001b[0mheaders\u001b[0m\u001b[0;34m=\u001b[0m\u001b[0mheaders\u001b[0m\u001b[0;34m,\u001b[0m\u001b[0;34m\u001b[0m\u001b[0;34m\u001b[0m\u001b[0m\n\u001b[0;32m--> 600\u001b[0;31m                                                   chunked=chunked)\n\u001b[0m\u001b[1;32m    601\u001b[0m \u001b[0;34m\u001b[0m\u001b[0m\n\u001b[1;32m    602\u001b[0m             \u001b[0;31m# If we're going to release the connection in ``finally:``, then\u001b[0m\u001b[0;34m\u001b[0m\u001b[0;34m\u001b[0m\u001b[0;34m\u001b[0m\u001b[0m\n",
            "\u001b[0;32m/usr/local/lib/python3.6/dist-packages/urllib3/connectionpool.py\u001b[0m in \u001b[0;36m_make_request\u001b[0;34m(self, conn, method, url, timeout, chunked, **httplib_request_kw)\u001b[0m\n\u001b[1;32m    352\u001b[0m             \u001b[0mconn\u001b[0m\u001b[0;34m.\u001b[0m\u001b[0mrequest_chunked\u001b[0m\u001b[0;34m(\u001b[0m\u001b[0mmethod\u001b[0m\u001b[0;34m,\u001b[0m \u001b[0murl\u001b[0m\u001b[0;34m,\u001b[0m \u001b[0;34m**\u001b[0m\u001b[0mhttplib_request_kw\u001b[0m\u001b[0;34m)\u001b[0m\u001b[0;34m\u001b[0m\u001b[0;34m\u001b[0m\u001b[0m\n\u001b[1;32m    353\u001b[0m         \u001b[0;32melse\u001b[0m\u001b[0;34m:\u001b[0m\u001b[0;34m\u001b[0m\u001b[0;34m\u001b[0m\u001b[0m\n\u001b[0;32m--> 354\u001b[0;31m             \u001b[0mconn\u001b[0m\u001b[0;34m.\u001b[0m\u001b[0mrequest\u001b[0m\u001b[0;34m(\u001b[0m\u001b[0mmethod\u001b[0m\u001b[0;34m,\u001b[0m \u001b[0murl\u001b[0m\u001b[0;34m,\u001b[0m \u001b[0;34m**\u001b[0m\u001b[0mhttplib_request_kw\u001b[0m\u001b[0;34m)\u001b[0m\u001b[0;34m\u001b[0m\u001b[0;34m\u001b[0m\u001b[0m\n\u001b[0m\u001b[1;32m    355\u001b[0m \u001b[0;34m\u001b[0m\u001b[0m\n\u001b[1;32m    356\u001b[0m         \u001b[0;31m# Reset the timeout for the recv() on the socket\u001b[0m\u001b[0;34m\u001b[0m\u001b[0;34m\u001b[0m\u001b[0;34m\u001b[0m\u001b[0m\n",
            "\u001b[0;32m/usr/lib/python3.6/http/client.py\u001b[0m in \u001b[0;36mrequest\u001b[0;34m(self, method, url, body, headers, encode_chunked)\u001b[0m\n\u001b[1;32m   1262\u001b[0m                 encode_chunked=False):\n\u001b[1;32m   1263\u001b[0m         \u001b[0;34m\"\"\"Send a complete request to the server.\"\"\"\u001b[0m\u001b[0;34m\u001b[0m\u001b[0;34m\u001b[0m\u001b[0m\n\u001b[0;32m-> 1264\u001b[0;31m         \u001b[0mself\u001b[0m\u001b[0;34m.\u001b[0m\u001b[0m_send_request\u001b[0m\u001b[0;34m(\u001b[0m\u001b[0mmethod\u001b[0m\u001b[0;34m,\u001b[0m \u001b[0murl\u001b[0m\u001b[0;34m,\u001b[0m \u001b[0mbody\u001b[0m\u001b[0;34m,\u001b[0m \u001b[0mheaders\u001b[0m\u001b[0;34m,\u001b[0m \u001b[0mencode_chunked\u001b[0m\u001b[0;34m)\u001b[0m\u001b[0;34m\u001b[0m\u001b[0;34m\u001b[0m\u001b[0m\n\u001b[0m\u001b[1;32m   1265\u001b[0m \u001b[0;34m\u001b[0m\u001b[0m\n\u001b[1;32m   1266\u001b[0m     \u001b[0;32mdef\u001b[0m \u001b[0m_send_request\u001b[0m\u001b[0;34m(\u001b[0m\u001b[0mself\u001b[0m\u001b[0;34m,\u001b[0m \u001b[0mmethod\u001b[0m\u001b[0;34m,\u001b[0m \u001b[0murl\u001b[0m\u001b[0;34m,\u001b[0m \u001b[0mbody\u001b[0m\u001b[0;34m,\u001b[0m \u001b[0mheaders\u001b[0m\u001b[0;34m,\u001b[0m \u001b[0mencode_chunked\u001b[0m\u001b[0;34m)\u001b[0m\u001b[0;34m:\u001b[0m\u001b[0;34m\u001b[0m\u001b[0;34m\u001b[0m\u001b[0m\n",
            "\u001b[0;32m/usr/lib/python3.6/http/client.py\u001b[0m in \u001b[0;36m_send_request\u001b[0;34m(self, method, url, body, headers, encode_chunked)\u001b[0m\n\u001b[1;32m   1308\u001b[0m             \u001b[0;31m# default charset of iso-8859-1.\u001b[0m\u001b[0;34m\u001b[0m\u001b[0;34m\u001b[0m\u001b[0;34m\u001b[0m\u001b[0m\n\u001b[1;32m   1309\u001b[0m             \u001b[0mbody\u001b[0m \u001b[0;34m=\u001b[0m \u001b[0m_encode\u001b[0m\u001b[0;34m(\u001b[0m\u001b[0mbody\u001b[0m\u001b[0;34m,\u001b[0m \u001b[0;34m'body'\u001b[0m\u001b[0;34m)\u001b[0m\u001b[0;34m\u001b[0m\u001b[0;34m\u001b[0m\u001b[0m\n\u001b[0;32m-> 1310\u001b[0;31m         \u001b[0mself\u001b[0m\u001b[0;34m.\u001b[0m\u001b[0mendheaders\u001b[0m\u001b[0;34m(\u001b[0m\u001b[0mbody\u001b[0m\u001b[0;34m,\u001b[0m \u001b[0mencode_chunked\u001b[0m\u001b[0;34m=\u001b[0m\u001b[0mencode_chunked\u001b[0m\u001b[0;34m)\u001b[0m\u001b[0;34m\u001b[0m\u001b[0;34m\u001b[0m\u001b[0m\n\u001b[0m\u001b[1;32m   1311\u001b[0m \u001b[0;34m\u001b[0m\u001b[0m\n\u001b[1;32m   1312\u001b[0m     \u001b[0;32mdef\u001b[0m \u001b[0mgetresponse\u001b[0m\u001b[0;34m(\u001b[0m\u001b[0mself\u001b[0m\u001b[0;34m)\u001b[0m\u001b[0;34m:\u001b[0m\u001b[0;34m\u001b[0m\u001b[0;34m\u001b[0m\u001b[0m\n",
            "\u001b[0;32m/usr/lib/python3.6/http/client.py\u001b[0m in \u001b[0;36mendheaders\u001b[0;34m(self, message_body, encode_chunked)\u001b[0m\n\u001b[1;32m   1257\u001b[0m         \u001b[0;32melse\u001b[0m\u001b[0;34m:\u001b[0m\u001b[0;34m\u001b[0m\u001b[0;34m\u001b[0m\u001b[0m\n\u001b[1;32m   1258\u001b[0m             \u001b[0;32mraise\u001b[0m \u001b[0mCannotSendHeader\u001b[0m\u001b[0;34m(\u001b[0m\u001b[0;34m)\u001b[0m\u001b[0;34m\u001b[0m\u001b[0;34m\u001b[0m\u001b[0m\n\u001b[0;32m-> 1259\u001b[0;31m         \u001b[0mself\u001b[0m\u001b[0;34m.\u001b[0m\u001b[0m_send_output\u001b[0m\u001b[0;34m(\u001b[0m\u001b[0mmessage_body\u001b[0m\u001b[0;34m,\u001b[0m \u001b[0mencode_chunked\u001b[0m\u001b[0;34m=\u001b[0m\u001b[0mencode_chunked\u001b[0m\u001b[0;34m)\u001b[0m\u001b[0;34m\u001b[0m\u001b[0;34m\u001b[0m\u001b[0m\n\u001b[0m\u001b[1;32m   1260\u001b[0m \u001b[0;34m\u001b[0m\u001b[0m\n\u001b[1;32m   1261\u001b[0m     def request(self, method, url, body=None, headers={}, *,\n",
            "\u001b[0;32m/usr/lib/python3.6/http/client.py\u001b[0m in \u001b[0;36m_send_output\u001b[0;34m(self, message_body, encode_chunked)\u001b[0m\n\u001b[1;32m   1036\u001b[0m         \u001b[0mmsg\u001b[0m \u001b[0;34m=\u001b[0m \u001b[0;34mb\"\\r\\n\"\u001b[0m\u001b[0;34m.\u001b[0m\u001b[0mjoin\u001b[0m\u001b[0;34m(\u001b[0m\u001b[0mself\u001b[0m\u001b[0;34m.\u001b[0m\u001b[0m_buffer\u001b[0m\u001b[0;34m)\u001b[0m\u001b[0;34m\u001b[0m\u001b[0;34m\u001b[0m\u001b[0m\n\u001b[1;32m   1037\u001b[0m         \u001b[0;32mdel\u001b[0m \u001b[0mself\u001b[0m\u001b[0;34m.\u001b[0m\u001b[0m_buffer\u001b[0m\u001b[0;34m[\u001b[0m\u001b[0;34m:\u001b[0m\u001b[0;34m]\u001b[0m\u001b[0;34m\u001b[0m\u001b[0;34m\u001b[0m\u001b[0m\n\u001b[0;32m-> 1038\u001b[0;31m         \u001b[0mself\u001b[0m\u001b[0;34m.\u001b[0m\u001b[0msend\u001b[0m\u001b[0;34m(\u001b[0m\u001b[0mmsg\u001b[0m\u001b[0;34m)\u001b[0m\u001b[0;34m\u001b[0m\u001b[0;34m\u001b[0m\u001b[0m\n\u001b[0m\u001b[1;32m   1039\u001b[0m \u001b[0;34m\u001b[0m\u001b[0m\n\u001b[1;32m   1040\u001b[0m         \u001b[0;32mif\u001b[0m \u001b[0mmessage_body\u001b[0m \u001b[0;32mis\u001b[0m \u001b[0;32mnot\u001b[0m \u001b[0;32mNone\u001b[0m\u001b[0;34m:\u001b[0m\u001b[0;34m\u001b[0m\u001b[0;34m\u001b[0m\u001b[0m\n",
            "\u001b[0;32m/usr/lib/python3.6/http/client.py\u001b[0m in \u001b[0;36msend\u001b[0;34m(self, data)\u001b[0m\n\u001b[1;32m    974\u001b[0m         \u001b[0;32mif\u001b[0m \u001b[0mself\u001b[0m\u001b[0;34m.\u001b[0m\u001b[0msock\u001b[0m \u001b[0;32mis\u001b[0m \u001b[0;32mNone\u001b[0m\u001b[0;34m:\u001b[0m\u001b[0;34m\u001b[0m\u001b[0;34m\u001b[0m\u001b[0m\n\u001b[1;32m    975\u001b[0m             \u001b[0;32mif\u001b[0m \u001b[0mself\u001b[0m\u001b[0;34m.\u001b[0m\u001b[0mauto_open\u001b[0m\u001b[0;34m:\u001b[0m\u001b[0;34m\u001b[0m\u001b[0;34m\u001b[0m\u001b[0m\n\u001b[0;32m--> 976\u001b[0;31m                 \u001b[0mself\u001b[0m\u001b[0;34m.\u001b[0m\u001b[0mconnect\u001b[0m\u001b[0;34m(\u001b[0m\u001b[0;34m)\u001b[0m\u001b[0;34m\u001b[0m\u001b[0;34m\u001b[0m\u001b[0m\n\u001b[0m\u001b[1;32m    977\u001b[0m             \u001b[0;32melse\u001b[0m\u001b[0;34m:\u001b[0m\u001b[0;34m\u001b[0m\u001b[0;34m\u001b[0m\u001b[0m\n\u001b[1;32m    978\u001b[0m                 \u001b[0;32mraise\u001b[0m \u001b[0mNotConnected\u001b[0m\u001b[0;34m(\u001b[0m\u001b[0;34m)\u001b[0m\u001b[0;34m\u001b[0m\u001b[0;34m\u001b[0m\u001b[0m\n",
            "\u001b[0;32m/usr/local/lib/python3.6/dist-packages/urllib3/connection.py\u001b[0m in \u001b[0;36mconnect\u001b[0;34m(self)\u001b[0m\n\u001b[1;32m    179\u001b[0m \u001b[0;34m\u001b[0m\u001b[0m\n\u001b[1;32m    180\u001b[0m     \u001b[0;32mdef\u001b[0m \u001b[0mconnect\u001b[0m\u001b[0;34m(\u001b[0m\u001b[0mself\u001b[0m\u001b[0;34m)\u001b[0m\u001b[0;34m:\u001b[0m\u001b[0;34m\u001b[0m\u001b[0;34m\u001b[0m\u001b[0m\n\u001b[0;32m--> 181\u001b[0;31m         \u001b[0mconn\u001b[0m \u001b[0;34m=\u001b[0m \u001b[0mself\u001b[0m\u001b[0;34m.\u001b[0m\u001b[0m_new_conn\u001b[0m\u001b[0;34m(\u001b[0m\u001b[0;34m)\u001b[0m\u001b[0;34m\u001b[0m\u001b[0;34m\u001b[0m\u001b[0m\n\u001b[0m\u001b[1;32m    182\u001b[0m         \u001b[0mself\u001b[0m\u001b[0;34m.\u001b[0m\u001b[0m_prepare_conn\u001b[0m\u001b[0;34m(\u001b[0m\u001b[0mconn\u001b[0m\u001b[0;34m)\u001b[0m\u001b[0;34m\u001b[0m\u001b[0;34m\u001b[0m\u001b[0m\n\u001b[1;32m    183\u001b[0m \u001b[0;34m\u001b[0m\u001b[0m\n",
            "\u001b[0;32m/usr/local/lib/python3.6/dist-packages/urllib3/connection.py\u001b[0m in \u001b[0;36m_new_conn\u001b[0;34m(self)\u001b[0m\n\u001b[1;32m    157\u001b[0m         \u001b[0;32mtry\u001b[0m\u001b[0;34m:\u001b[0m\u001b[0;34m\u001b[0m\u001b[0;34m\u001b[0m\u001b[0m\n\u001b[1;32m    158\u001b[0m             conn = connection.create_connection(\n\u001b[0;32m--> 159\u001b[0;31m                 (self._dns_host, self.port), self.timeout, **extra_kw)\n\u001b[0m\u001b[1;32m    160\u001b[0m \u001b[0;34m\u001b[0m\u001b[0m\n\u001b[1;32m    161\u001b[0m         \u001b[0;32mexcept\u001b[0m \u001b[0mSocketTimeout\u001b[0m\u001b[0;34m:\u001b[0m\u001b[0;34m\u001b[0m\u001b[0;34m\u001b[0m\u001b[0m\n",
            "\u001b[0;32m/usr/local/lib/python3.6/dist-packages/urllib3/util/connection.py\u001b[0m in \u001b[0;36mcreate_connection\u001b[0;34m(address, timeout, source_address, socket_options)\u001b[0m\n\u001b[1;32m     68\u001b[0m             \u001b[0;32mif\u001b[0m \u001b[0msource_address\u001b[0m\u001b[0;34m:\u001b[0m\u001b[0;34m\u001b[0m\u001b[0;34m\u001b[0m\u001b[0m\n\u001b[1;32m     69\u001b[0m                 \u001b[0msock\u001b[0m\u001b[0;34m.\u001b[0m\u001b[0mbind\u001b[0m\u001b[0;34m(\u001b[0m\u001b[0msource_address\u001b[0m\u001b[0;34m)\u001b[0m\u001b[0;34m\u001b[0m\u001b[0;34m\u001b[0m\u001b[0m\n\u001b[0;32m---> 70\u001b[0;31m             \u001b[0msock\u001b[0m\u001b[0;34m.\u001b[0m\u001b[0mconnect\u001b[0m\u001b[0;34m(\u001b[0m\u001b[0msa\u001b[0m\u001b[0;34m)\u001b[0m\u001b[0;34m\u001b[0m\u001b[0;34m\u001b[0m\u001b[0m\n\u001b[0m\u001b[1;32m     71\u001b[0m             \u001b[0;32mreturn\u001b[0m \u001b[0msock\u001b[0m\u001b[0;34m\u001b[0m\u001b[0;34m\u001b[0m\u001b[0m\n\u001b[1;32m     72\u001b[0m \u001b[0;34m\u001b[0m\u001b[0m\n",
            "\u001b[0;31mKeyboardInterrupt\u001b[0m: "
          ]
        }
      ]
    },
    {
      "cell_type": "code",
      "metadata": {
        "id": "3qYI-KKG49Pb",
        "colab_type": "code",
        "colab": {}
      },
      "source": [
        ""
      ],
      "execution_count": 0,
      "outputs": []
    },
    {
      "cell_type": "code",
      "metadata": {
        "id": "JPk6z2wLI47N",
        "colab_type": "code",
        "outputId": "e04ff0b2-0230-4119-882b-847e6a16514a",
        "colab": {
          "base_uri": "https://localhost:8080/",
          "height": 793
        }
      },
      "source": [
        "df"
      ],
      "execution_count": 45,
      "outputs": [
        {
          "output_type": "execute_result",
          "data": {
            "text/html": [
              "<div>\n",
              "<style scoped>\n",
              "    .dataframe tbody tr th:only-of-type {\n",
              "        vertical-align: middle;\n",
              "    }\n",
              "\n",
              "    .dataframe tbody tr th {\n",
              "        vertical-align: top;\n",
              "    }\n",
              "\n",
              "    .dataframe thead th {\n",
              "        text-align: right;\n",
              "    }\n",
              "</style>\n",
              "<table border=\"1\" class=\"dataframe\">\n",
              "  <thead>\n",
              "    <tr style=\"text-align: right;\">\n",
              "      <th></th>\n",
              "      <th>Sale Date</th>\n",
              "      <th>Sale Price</th>\n",
              "      <th>Deed Type</th>\n",
              "      <th>Deed Book &amp; Page</th>\n",
              "      <th>Parcel</th>\n",
              "      <th>Property #</th>\n",
              "    </tr>\n",
              "  </thead>\n",
              "  <tbody>\n",
              "    <tr>\n",
              "      <th>0</th>\n",
              "      <td>12/05/2006</td>\n",
              "      <td>$7,500</td>\n",
              "      <td>DEED OF CORRECTION</td>\n",
              "      <td>20110805-0060547</td>\n",
              "      <td>001 00 0 001.00</td>\n",
              "      <td>1</td>\n",
              "    </tr>\n",
              "    <tr>\n",
              "      <th>1</th>\n",
              "      <td>12/05/2006</td>\n",
              "      <td>$7,500</td>\n",
              "      <td>WARRANTY DEED</td>\n",
              "      <td>20070109-0003943</td>\n",
              "      <td>001 00 0 001.00</td>\n",
              "      <td>1</td>\n",
              "    </tr>\n",
              "    <tr>\n",
              "      <th>2</th>\n",
              "      <td>09/15/1965</td>\n",
              "      <td>$0</td>\n",
              "      <td>WARRANTY DEED</td>\n",
              "      <td>00000137-0000216</td>\n",
              "      <td>001 00 0 001.00</td>\n",
              "      <td>1</td>\n",
              "    </tr>\n",
              "    <tr>\n",
              "      <th>0</th>\n",
              "      <td>05/17/1983</td>\n",
              "      <td>$12,500</td>\n",
              "      <td>WARRANTY DEED</td>\n",
              "      <td>00006058-0000985</td>\n",
              "      <td>001 00 0 002.00</td>\n",
              "      <td>2</td>\n",
              "    </tr>\n",
              "    <tr>\n",
              "      <th>1</th>\n",
              "      <td>01/06/1972</td>\n",
              "      <td>$0</td>\n",
              "      <td>WARRANTY DEED</td>\n",
              "      <td>00005797-0000390</td>\n",
              "      <td>001 00 0 002.00</td>\n",
              "      <td>2</td>\n",
              "    </tr>\n",
              "    <tr>\n",
              "      <th>2</th>\n",
              "      <td>01/06/1972</td>\n",
              "      <td>$0</td>\n",
              "      <td>WARRANTY DEED</td>\n",
              "      <td>00000155-0000282</td>\n",
              "      <td>001 00 0 002.00</td>\n",
              "      <td>2</td>\n",
              "    </tr>\n",
              "    <tr>\n",
              "      <th>0</th>\n",
              "      <td>12/18/1997</td>\n",
              "      <td>$67,000</td>\n",
              "      <td>WARRANTY DEED</td>\n",
              "      <td>00010729-0000778</td>\n",
              "      <td>002 00 0 001.00</td>\n",
              "      <td>3</td>\n",
              "    </tr>\n",
              "    <tr>\n",
              "      <th>1</th>\n",
              "      <td>07/29/1997</td>\n",
              "      <td>$50,000</td>\n",
              "      <td>WARRANTY DEED</td>\n",
              "      <td>00010552-0000735</td>\n",
              "      <td>002 00 0 001.00</td>\n",
              "      <td>3</td>\n",
              "    </tr>\n",
              "    <tr>\n",
              "      <th>2</th>\n",
              "      <td>04/13/1994</td>\n",
              "      <td>$8,000</td>\n",
              "      <td>WARRANTY DEED</td>\n",
              "      <td>00009312-0000366</td>\n",
              "      <td>002 00 0 001.00</td>\n",
              "      <td>3</td>\n",
              "    </tr>\n",
              "    <tr>\n",
              "      <th>3</th>\n",
              "      <td>10/27/1977</td>\n",
              "      <td>$23,000</td>\n",
              "      <td>WARRANTY DEED</td>\n",
              "      <td>00005215-0000894</td>\n",
              "      <td>002 00 0 001.00</td>\n",
              "      <td>3</td>\n",
              "    </tr>\n",
              "    <tr>\n",
              "      <th>4</th>\n",
              "      <td>04/23/1976</td>\n",
              "      <td>$20,000</td>\n",
              "      <td>WARRANTY DEED</td>\n",
              "      <td>00005018-0000594</td>\n",
              "      <td>002 00 0 001.00</td>\n",
              "      <td>3</td>\n",
              "    </tr>\n",
              "    <tr>\n",
              "      <th>5</th>\n",
              "      <td>07/29/1963</td>\n",
              "      <td>$0</td>\n",
              "      <td>WARRANTY DEED</td>\n",
              "      <td>00003611-0000049</td>\n",
              "      <td>002 00 0 001.00</td>\n",
              "      <td>3</td>\n",
              "    </tr>\n",
              "    <tr>\n",
              "      <th>0</th>\n",
              "      <td>12/18/1997</td>\n",
              "      <td>$67,000</td>\n",
              "      <td>WARRANTY DEED</td>\n",
              "      <td>00010729-0000778</td>\n",
              "      <td>002 00 0 001.00 001</td>\n",
              "      <td>4</td>\n",
              "    </tr>\n",
              "    <tr>\n",
              "      <th>1</th>\n",
              "      <td>07/29/1997</td>\n",
              "      <td>$50,000</td>\n",
              "      <td>WARRANTY DEED</td>\n",
              "      <td>00010552-0000735</td>\n",
              "      <td>002 00 0 001.00 001</td>\n",
              "      <td>4</td>\n",
              "    </tr>\n",
              "    <tr>\n",
              "      <th>2</th>\n",
              "      <td>04/13/1994</td>\n",
              "      <td>$8,000</td>\n",
              "      <td>WARRANTY DEED</td>\n",
              "      <td>00009312-0000366</td>\n",
              "      <td>002 00 0 001.00 001</td>\n",
              "      <td>4</td>\n",
              "    </tr>\n",
              "    <tr>\n",
              "      <th>3</th>\n",
              "      <td>10/27/1977</td>\n",
              "      <td>$0</td>\n",
              "      <td>WARRANTY DEED</td>\n",
              "      <td>00005215-0000894</td>\n",
              "      <td>002 00 0 001.00 001</td>\n",
              "      <td>4</td>\n",
              "    </tr>\n",
              "    <tr>\n",
              "      <th>0</th>\n",
              "      <td>12/18/1997</td>\n",
              "      <td>$67,000</td>\n",
              "      <td>WARRANTY DEED</td>\n",
              "      <td>00010729-0000778</td>\n",
              "      <td>002 00 0 001.00 002</td>\n",
              "      <td>5</td>\n",
              "    </tr>\n",
              "    <tr>\n",
              "      <th>1</th>\n",
              "      <td>07/29/1997</td>\n",
              "      <td>$50,000</td>\n",
              "      <td>WARRANTY DEED</td>\n",
              "      <td>00010552-0000735</td>\n",
              "      <td>002 00 0 001.00 002</td>\n",
              "      <td>5</td>\n",
              "    </tr>\n",
              "    <tr>\n",
              "      <th>2</th>\n",
              "      <td>04/13/1994</td>\n",
              "      <td>$8,000</td>\n",
              "      <td>WARRANTY DEED</td>\n",
              "      <td>00009312-0000366</td>\n",
              "      <td>002 00 0 001.00 002</td>\n",
              "      <td>5</td>\n",
              "    </tr>\n",
              "    <tr>\n",
              "      <th>3</th>\n",
              "      <td>10/27/1977</td>\n",
              "      <td>$0</td>\n",
              "      <td>WARRANTY DEED</td>\n",
              "      <td>00005215-0000894</td>\n",
              "      <td>002 00 0 001.00 002</td>\n",
              "      <td>5</td>\n",
              "    </tr>\n",
              "    <tr>\n",
              "      <th>0</th>\n",
              "      <td>09/05/2014</td>\n",
              "      <td>$50,000</td>\n",
              "      <td>WARRANTY DEED</td>\n",
              "      <td>20140909-0082428</td>\n",
              "      <td>002 00 0 002.00</td>\n",
              "      <td>6</td>\n",
              "    </tr>\n",
              "    <tr>\n",
              "      <th>1</th>\n",
              "      <td>04/23/2002</td>\n",
              "      <td>$25,000</td>\n",
              "      <td>WARRANTY DEED</td>\n",
              "      <td>20020424-0050623</td>\n",
              "      <td>002 00 0 002.00</td>\n",
              "      <td>6</td>\n",
              "    </tr>\n",
              "    <tr>\n",
              "      <th>2</th>\n",
              "      <td>02/28/1990</td>\n",
              "      <td>$67,800</td>\n",
              "      <td>WARRANTY DEED</td>\n",
              "      <td>00008055-0000642</td>\n",
              "      <td>002 00 0 002.00</td>\n",
              "      <td>6</td>\n",
              "    </tr>\n",
              "    <tr>\n",
              "      <th>3</th>\n",
              "      <td>01/28/1958</td>\n",
              "      <td>$0</td>\n",
              "      <td>WARRANTY DEED</td>\n",
              "      <td>00002736-0000465</td>\n",
              "      <td>002 00 0 002.00</td>\n",
              "      <td>6</td>\n",
              "    </tr>\n",
              "  </tbody>\n",
              "</table>\n",
              "</div>"
            ],
            "text/plain": [
              "    Sale Date Sale Price  ...               Parcel Property #\n",
              "0  12/05/2006     $7,500  ...      001 00 0 001.00          1\n",
              "1  12/05/2006     $7,500  ...      001 00 0 001.00          1\n",
              "2  09/15/1965         $0  ...      001 00 0 001.00          1\n",
              "0  05/17/1983    $12,500  ...      001 00 0 002.00          2\n",
              "1  01/06/1972         $0  ...      001 00 0 002.00          2\n",
              "2  01/06/1972         $0  ...      001 00 0 002.00          2\n",
              "0  12/18/1997    $67,000  ...      002 00 0 001.00          3\n",
              "1  07/29/1997    $50,000  ...      002 00 0 001.00          3\n",
              "2  04/13/1994     $8,000  ...      002 00 0 001.00          3\n",
              "3  10/27/1977    $23,000  ...      002 00 0 001.00          3\n",
              "4  04/23/1976    $20,000  ...      002 00 0 001.00          3\n",
              "5  07/29/1963         $0  ...      002 00 0 001.00          3\n",
              "0  12/18/1997    $67,000  ...  002 00 0 001.00 001          4\n",
              "1  07/29/1997    $50,000  ...  002 00 0 001.00 001          4\n",
              "2  04/13/1994     $8,000  ...  002 00 0 001.00 001          4\n",
              "3  10/27/1977         $0  ...  002 00 0 001.00 001          4\n",
              "0  12/18/1997    $67,000  ...  002 00 0 001.00 002          5\n",
              "1  07/29/1997    $50,000  ...  002 00 0 001.00 002          5\n",
              "2  04/13/1994     $8,000  ...  002 00 0 001.00 002          5\n",
              "3  10/27/1977         $0  ...  002 00 0 001.00 002          5\n",
              "0  09/05/2014    $50,000  ...      002 00 0 002.00          6\n",
              "1  04/23/2002    $25,000  ...      002 00 0 002.00          6\n",
              "2  02/28/1990    $67,800  ...      002 00 0 002.00          6\n",
              "3  01/28/1958         $0  ...      002 00 0 002.00          6\n",
              "\n",
              "[24 rows x 6 columns]"
            ]
          },
          "metadata": {
            "tags": []
          },
          "execution_count": 45
        }
      ]
    },
    {
      "cell_type": "code",
      "metadata": {
        "id": "akebgLYG5byP",
        "colab_type": "code",
        "colab": {
          "base_uri": "https://localhost:8080/",
          "height": 793
        },
        "outputId": "40b8ca88-be08-40a3-d5a9-47591a094bca"
      },
      "source": [
        "df.reset_index()"
      ],
      "execution_count": 46,
      "outputs": [
        {
          "output_type": "execute_result",
          "data": {
            "text/html": [
              "<div>\n",
              "<style scoped>\n",
              "    .dataframe tbody tr th:only-of-type {\n",
              "        vertical-align: middle;\n",
              "    }\n",
              "\n",
              "    .dataframe tbody tr th {\n",
              "        vertical-align: top;\n",
              "    }\n",
              "\n",
              "    .dataframe thead th {\n",
              "        text-align: right;\n",
              "    }\n",
              "</style>\n",
              "<table border=\"1\" class=\"dataframe\">\n",
              "  <thead>\n",
              "    <tr style=\"text-align: right;\">\n",
              "      <th></th>\n",
              "      <th>index</th>\n",
              "      <th>Sale Date</th>\n",
              "      <th>Sale Price</th>\n",
              "      <th>Deed Type</th>\n",
              "      <th>Deed Book &amp; Page</th>\n",
              "      <th>Parcel</th>\n",
              "      <th>Property #</th>\n",
              "    </tr>\n",
              "  </thead>\n",
              "  <tbody>\n",
              "    <tr>\n",
              "      <th>0</th>\n",
              "      <td>0</td>\n",
              "      <td>12/05/2006</td>\n",
              "      <td>$7,500</td>\n",
              "      <td>DEED OF CORRECTION</td>\n",
              "      <td>20110805-0060547</td>\n",
              "      <td>001 00 0 001.00</td>\n",
              "      <td>1</td>\n",
              "    </tr>\n",
              "    <tr>\n",
              "      <th>1</th>\n",
              "      <td>1</td>\n",
              "      <td>12/05/2006</td>\n",
              "      <td>$7,500</td>\n",
              "      <td>WARRANTY DEED</td>\n",
              "      <td>20070109-0003943</td>\n",
              "      <td>001 00 0 001.00</td>\n",
              "      <td>1</td>\n",
              "    </tr>\n",
              "    <tr>\n",
              "      <th>2</th>\n",
              "      <td>2</td>\n",
              "      <td>09/15/1965</td>\n",
              "      <td>$0</td>\n",
              "      <td>WARRANTY DEED</td>\n",
              "      <td>00000137-0000216</td>\n",
              "      <td>001 00 0 001.00</td>\n",
              "      <td>1</td>\n",
              "    </tr>\n",
              "    <tr>\n",
              "      <th>3</th>\n",
              "      <td>0</td>\n",
              "      <td>05/17/1983</td>\n",
              "      <td>$12,500</td>\n",
              "      <td>WARRANTY DEED</td>\n",
              "      <td>00006058-0000985</td>\n",
              "      <td>001 00 0 002.00</td>\n",
              "      <td>2</td>\n",
              "    </tr>\n",
              "    <tr>\n",
              "      <th>4</th>\n",
              "      <td>1</td>\n",
              "      <td>01/06/1972</td>\n",
              "      <td>$0</td>\n",
              "      <td>WARRANTY DEED</td>\n",
              "      <td>00005797-0000390</td>\n",
              "      <td>001 00 0 002.00</td>\n",
              "      <td>2</td>\n",
              "    </tr>\n",
              "    <tr>\n",
              "      <th>5</th>\n",
              "      <td>2</td>\n",
              "      <td>01/06/1972</td>\n",
              "      <td>$0</td>\n",
              "      <td>WARRANTY DEED</td>\n",
              "      <td>00000155-0000282</td>\n",
              "      <td>001 00 0 002.00</td>\n",
              "      <td>2</td>\n",
              "    </tr>\n",
              "    <tr>\n",
              "      <th>6</th>\n",
              "      <td>0</td>\n",
              "      <td>12/18/1997</td>\n",
              "      <td>$67,000</td>\n",
              "      <td>WARRANTY DEED</td>\n",
              "      <td>00010729-0000778</td>\n",
              "      <td>002 00 0 001.00</td>\n",
              "      <td>3</td>\n",
              "    </tr>\n",
              "    <tr>\n",
              "      <th>7</th>\n",
              "      <td>1</td>\n",
              "      <td>07/29/1997</td>\n",
              "      <td>$50,000</td>\n",
              "      <td>WARRANTY DEED</td>\n",
              "      <td>00010552-0000735</td>\n",
              "      <td>002 00 0 001.00</td>\n",
              "      <td>3</td>\n",
              "    </tr>\n",
              "    <tr>\n",
              "      <th>8</th>\n",
              "      <td>2</td>\n",
              "      <td>04/13/1994</td>\n",
              "      <td>$8,000</td>\n",
              "      <td>WARRANTY DEED</td>\n",
              "      <td>00009312-0000366</td>\n",
              "      <td>002 00 0 001.00</td>\n",
              "      <td>3</td>\n",
              "    </tr>\n",
              "    <tr>\n",
              "      <th>9</th>\n",
              "      <td>3</td>\n",
              "      <td>10/27/1977</td>\n",
              "      <td>$23,000</td>\n",
              "      <td>WARRANTY DEED</td>\n",
              "      <td>00005215-0000894</td>\n",
              "      <td>002 00 0 001.00</td>\n",
              "      <td>3</td>\n",
              "    </tr>\n",
              "    <tr>\n",
              "      <th>10</th>\n",
              "      <td>4</td>\n",
              "      <td>04/23/1976</td>\n",
              "      <td>$20,000</td>\n",
              "      <td>WARRANTY DEED</td>\n",
              "      <td>00005018-0000594</td>\n",
              "      <td>002 00 0 001.00</td>\n",
              "      <td>3</td>\n",
              "    </tr>\n",
              "    <tr>\n",
              "      <th>11</th>\n",
              "      <td>5</td>\n",
              "      <td>07/29/1963</td>\n",
              "      <td>$0</td>\n",
              "      <td>WARRANTY DEED</td>\n",
              "      <td>00003611-0000049</td>\n",
              "      <td>002 00 0 001.00</td>\n",
              "      <td>3</td>\n",
              "    </tr>\n",
              "    <tr>\n",
              "      <th>12</th>\n",
              "      <td>0</td>\n",
              "      <td>12/18/1997</td>\n",
              "      <td>$67,000</td>\n",
              "      <td>WARRANTY DEED</td>\n",
              "      <td>00010729-0000778</td>\n",
              "      <td>002 00 0 001.00 001</td>\n",
              "      <td>4</td>\n",
              "    </tr>\n",
              "    <tr>\n",
              "      <th>13</th>\n",
              "      <td>1</td>\n",
              "      <td>07/29/1997</td>\n",
              "      <td>$50,000</td>\n",
              "      <td>WARRANTY DEED</td>\n",
              "      <td>00010552-0000735</td>\n",
              "      <td>002 00 0 001.00 001</td>\n",
              "      <td>4</td>\n",
              "    </tr>\n",
              "    <tr>\n",
              "      <th>14</th>\n",
              "      <td>2</td>\n",
              "      <td>04/13/1994</td>\n",
              "      <td>$8,000</td>\n",
              "      <td>WARRANTY DEED</td>\n",
              "      <td>00009312-0000366</td>\n",
              "      <td>002 00 0 001.00 001</td>\n",
              "      <td>4</td>\n",
              "    </tr>\n",
              "    <tr>\n",
              "      <th>15</th>\n",
              "      <td>3</td>\n",
              "      <td>10/27/1977</td>\n",
              "      <td>$0</td>\n",
              "      <td>WARRANTY DEED</td>\n",
              "      <td>00005215-0000894</td>\n",
              "      <td>002 00 0 001.00 001</td>\n",
              "      <td>4</td>\n",
              "    </tr>\n",
              "    <tr>\n",
              "      <th>16</th>\n",
              "      <td>0</td>\n",
              "      <td>12/18/1997</td>\n",
              "      <td>$67,000</td>\n",
              "      <td>WARRANTY DEED</td>\n",
              "      <td>00010729-0000778</td>\n",
              "      <td>002 00 0 001.00 002</td>\n",
              "      <td>5</td>\n",
              "    </tr>\n",
              "    <tr>\n",
              "      <th>17</th>\n",
              "      <td>1</td>\n",
              "      <td>07/29/1997</td>\n",
              "      <td>$50,000</td>\n",
              "      <td>WARRANTY DEED</td>\n",
              "      <td>00010552-0000735</td>\n",
              "      <td>002 00 0 001.00 002</td>\n",
              "      <td>5</td>\n",
              "    </tr>\n",
              "    <tr>\n",
              "      <th>18</th>\n",
              "      <td>2</td>\n",
              "      <td>04/13/1994</td>\n",
              "      <td>$8,000</td>\n",
              "      <td>WARRANTY DEED</td>\n",
              "      <td>00009312-0000366</td>\n",
              "      <td>002 00 0 001.00 002</td>\n",
              "      <td>5</td>\n",
              "    </tr>\n",
              "    <tr>\n",
              "      <th>19</th>\n",
              "      <td>3</td>\n",
              "      <td>10/27/1977</td>\n",
              "      <td>$0</td>\n",
              "      <td>WARRANTY DEED</td>\n",
              "      <td>00005215-0000894</td>\n",
              "      <td>002 00 0 001.00 002</td>\n",
              "      <td>5</td>\n",
              "    </tr>\n",
              "    <tr>\n",
              "      <th>20</th>\n",
              "      <td>0</td>\n",
              "      <td>09/05/2014</td>\n",
              "      <td>$50,000</td>\n",
              "      <td>WARRANTY DEED</td>\n",
              "      <td>20140909-0082428</td>\n",
              "      <td>002 00 0 002.00</td>\n",
              "      <td>6</td>\n",
              "    </tr>\n",
              "    <tr>\n",
              "      <th>21</th>\n",
              "      <td>1</td>\n",
              "      <td>04/23/2002</td>\n",
              "      <td>$25,000</td>\n",
              "      <td>WARRANTY DEED</td>\n",
              "      <td>20020424-0050623</td>\n",
              "      <td>002 00 0 002.00</td>\n",
              "      <td>6</td>\n",
              "    </tr>\n",
              "    <tr>\n",
              "      <th>22</th>\n",
              "      <td>2</td>\n",
              "      <td>02/28/1990</td>\n",
              "      <td>$67,800</td>\n",
              "      <td>WARRANTY DEED</td>\n",
              "      <td>00008055-0000642</td>\n",
              "      <td>002 00 0 002.00</td>\n",
              "      <td>6</td>\n",
              "    </tr>\n",
              "    <tr>\n",
              "      <th>23</th>\n",
              "      <td>3</td>\n",
              "      <td>01/28/1958</td>\n",
              "      <td>$0</td>\n",
              "      <td>WARRANTY DEED</td>\n",
              "      <td>00002736-0000465</td>\n",
              "      <td>002 00 0 002.00</td>\n",
              "      <td>6</td>\n",
              "    </tr>\n",
              "  </tbody>\n",
              "</table>\n",
              "</div>"
            ],
            "text/plain": [
              "    index   Sale Date  ...               Parcel Property #\n",
              "0       0  12/05/2006  ...      001 00 0 001.00          1\n",
              "1       1  12/05/2006  ...      001 00 0 001.00          1\n",
              "2       2  09/15/1965  ...      001 00 0 001.00          1\n",
              "3       0  05/17/1983  ...      001 00 0 002.00          2\n",
              "4       1  01/06/1972  ...      001 00 0 002.00          2\n",
              "5       2  01/06/1972  ...      001 00 0 002.00          2\n",
              "6       0  12/18/1997  ...      002 00 0 001.00          3\n",
              "7       1  07/29/1997  ...      002 00 0 001.00          3\n",
              "8       2  04/13/1994  ...      002 00 0 001.00          3\n",
              "9       3  10/27/1977  ...      002 00 0 001.00          3\n",
              "10      4  04/23/1976  ...      002 00 0 001.00          3\n",
              "11      5  07/29/1963  ...      002 00 0 001.00          3\n",
              "12      0  12/18/1997  ...  002 00 0 001.00 001          4\n",
              "13      1  07/29/1997  ...  002 00 0 001.00 001          4\n",
              "14      2  04/13/1994  ...  002 00 0 001.00 001          4\n",
              "15      3  10/27/1977  ...  002 00 0 001.00 001          4\n",
              "16      0  12/18/1997  ...  002 00 0 001.00 002          5\n",
              "17      1  07/29/1997  ...  002 00 0 001.00 002          5\n",
              "18      2  04/13/1994  ...  002 00 0 001.00 002          5\n",
              "19      3  10/27/1977  ...  002 00 0 001.00 002          5\n",
              "20      0  09/05/2014  ...      002 00 0 002.00          6\n",
              "21      1  04/23/2002  ...      002 00 0 002.00          6\n",
              "22      2  02/28/1990  ...      002 00 0 002.00          6\n",
              "23      3  01/28/1958  ...      002 00 0 002.00          6\n",
              "\n",
              "[24 rows x 7 columns]"
            ]
          },
          "metadata": {
            "tags": []
          },
          "execution_count": 46
        }
      ]
    },
    {
      "cell_type": "code",
      "metadata": {
        "id": "MUs5u3SPMThy",
        "colab_type": "code",
        "colab": {}
      },
      "source": [
        "import numpy as np\n"
      ],
      "execution_count": 0,
      "outputs": []
    },
    {
      "cell_type": "code",
      "metadata": {
        "id": "aXunJ6e2KB2F",
        "colab_type": "code",
        "outputId": "6cc702ec-46e5-409f-dbb9-51b89df9b0f6",
        "colab": {
          "base_uri": "https://localhost:8080/",
          "height": 34
        }
      },
      "source": [
        "url = 'http://www.padctn.org/prc/property/1000000/card/1000000/historical'\n",
        "t = pd.read_html(requests.get(url,  headers={'User-agent': 'Mozilla/5.0'}).text,\n",
        "                      attrs={\"class\":\"table table-condensed table-bordered\"})[0]\n",
        "if np.any(t):\n",
        "  print(t)\n",
        "else:\n",
        "  print('no data')"
      ],
      "execution_count": 0,
      "outputs": [
        {
          "output_type": "stream",
          "text": [
            "no data\n"
          ],
          "name": "stdout"
        }
      ]
    },
    {
      "cell_type": "code",
      "metadata": {
        "id": "m0fp9sTJKd-Y",
        "colab_type": "code",
        "colab": {}
      },
      "source": [
        "import time"
      ],
      "execution_count": 0,
      "outputs": []
    },
    {
      "cell_type": "code",
      "metadata": {
        "id": "j_9n-5LKMgXt",
        "colab_type": "code",
        "outputId": "e7bd254e-135f-4689-8d7e-0b9f64059be1",
        "colab": {
          "base_uri": "https://localhost:8080/",
          "height": 50
        }
      },
      "source": [
        "print('before')\n",
        "time.sleep(3)\n",
        "print('after')"
      ],
      "execution_count": 0,
      "outputs": [
        {
          "output_type": "stream",
          "text": [
            "before\n",
            "after\n"
          ],
          "name": "stdout"
        }
      ]
    },
    {
      "cell_type": "code",
      "metadata": {
        "id": "jXiytkF5MmVi",
        "colab_type": "code",
        "colab": {}
      },
      "source": [
        ""
      ],
      "execution_count": 0,
      "outputs": []
    }
  ]
}