{
  "nbformat": 4,
  "nbformat_minor": 0,
  "metadata": {
    "colab": {
      "name": "scraper.ipynb",
      "provenance": [],
      "authorship_tag": "ABX9TyNk8zR5fTS3D38S17UONJ6c",
      "include_colab_link": true
    },
    "kernelspec": {
      "name": "python3",
      "display_name": "Python 3"
    }
  },
  "cells": [
    {
      "cell_type": "markdown",
      "metadata": {
        "id": "view-in-github",
        "colab_type": "text"
      },
      "source": [
        "<a href=\"https://colab.research.google.com/github/parasgulati8/Web-Scraper/blob/master/scraper.ipynb\" target=\"_parent\"><img src=\"https://colab.research.google.com/assets/colab-badge.svg\" alt=\"Open In Colab\"/></a>"
      ]
    },
    {
      "cell_type": "code",
      "metadata": {
        "id": "MSDQMc2zmTMR",
        "colab_type": "code",
        "colab": {}
      },
      "source": [
        "# import glob\n",
        "import pandas as pd\n",
        "import numpy as np\n",
        "import time\n",
        "from bs4 import BeautifulSoup as bs\n",
        "# import urllib3\n",
        "import requests\n",
        "# import json\n",
        "# from urllib.request import urlopen, urlretrieve, quote\n",
        "# from openpyxl import Workbook\n",
        "import re"
      ],
      "execution_count": 0,
      "outputs": []
    },
    {
      "cell_type": "code",
      "metadata": {
        "id": "cFXlItdRoHb7",
        "colab_type": "code",
        "colab": {}
      },
      "source": [
        "page = requests.get('http://www.padctn.org/prc/property/1/card/1/historical')"
      ],
      "execution_count": 0,
      "outputs": []
    },
    {
      "cell_type": "code",
      "metadata": {
        "id": "s3HNZXIDoMqq",
        "colab_type": "code",
        "colab": {}
      },
      "source": [
        "soup = bs(page.text, 'html.parser')\n",
        "# u = urlopen(site)"
      ],
      "execution_count": 0,
      "outputs": []
    },
    {
      "cell_type": "code",
      "metadata": {
        "id": "lg1qbcqVvaE0",
        "colab_type": "code",
        "colab": {
          "base_uri": "https://localhost:8080/",
          "height": 34
        },
        "outputId": "ea9e7ce8-aac0-4af6-b6bc-48a285c1fee5"
      },
      "source": [
        "soup.h2.text"
      ],
      "execution_count": 7,
      "outputs": [
        {
          "output_type": "execute_result",
          "data": {
            "text/plain": [
              "'Historical Details - Map & Parcel 001 00 0 001.00'"
            ]
          },
          "metadata": {
            "tags": []
          },
          "execution_count": 7
        }
      ]
    },
    {
      "cell_type": "code",
      "metadata": {
        "id": "XmUOOLDvxOF2",
        "colab_type": "code",
        "colab": {
          "base_uri": "https://localhost:8080/",
          "height": 34
        },
        "outputId": "36877ce9-0e42-4cbb-f5b7-1a67a86da278"
      },
      "source": [
        "' '.join(parcel.split()[6:])"
      ],
      "execution_count": 18,
      "outputs": [
        {
          "output_type": "execute_result",
          "data": {
            "text/plain": [
              "'001 00 0 001.00'"
            ]
          },
          "metadata": {
            "tags": []
          },
          "execution_count": 18
        }
      ]
    },
    {
      "cell_type": "code",
      "metadata": {
        "id": "_KPh_uR3wCud",
        "colab_type": "code",
        "colab": {
          "base_uri": "https://localhost:8080/",
          "height": 142
        },
        "outputId": "c7d27632-843d-4a3c-aef7-96aad92156a9"
      },
      "source": [
        "url = 'http://www.padctn.org/prc/property/1/card/1/historical'\n",
        "page = requests.get(url)\n",
        "soup = bs(page.text, 'html.parser')\n",
        "parcel = soup.h2.text\n",
        "parcel = ' '.join(parcel.split()[6:])\n",
        "df = pd.read_html(requests.get(url,  headers={'User-agent': 'Mozilla/5.0'}).text,\n",
        "                      attrs={\"class\":\"table table-condensed table-bordered\"})[0]\n",
        "\n",
        "df['Parcel'] = [parcel]*len(df)\n",
        "df"
      ],
      "execution_count": 19,
      "outputs": [
        {
          "output_type": "execute_result",
          "data": {
            "text/html": [
              "<div>\n",
              "<style scoped>\n",
              "    .dataframe tbody tr th:only-of-type {\n",
              "        vertical-align: middle;\n",
              "    }\n",
              "\n",
              "    .dataframe tbody tr th {\n",
              "        vertical-align: top;\n",
              "    }\n",
              "\n",
              "    .dataframe thead th {\n",
              "        text-align: right;\n",
              "    }\n",
              "</style>\n",
              "<table border=\"1\" class=\"dataframe\">\n",
              "  <thead>\n",
              "    <tr style=\"text-align: right;\">\n",
              "      <th></th>\n",
              "      <th>Sale Date</th>\n",
              "      <th>Sale Price</th>\n",
              "      <th>Deed Type</th>\n",
              "      <th>Deed Book &amp; Page</th>\n",
              "      <th>Parcel</th>\n",
              "    </tr>\n",
              "  </thead>\n",
              "  <tbody>\n",
              "    <tr>\n",
              "      <th>0</th>\n",
              "      <td>12/05/2006</td>\n",
              "      <td>$7,500</td>\n",
              "      <td>DEED OF CORRECTION</td>\n",
              "      <td>20110805-0060547</td>\n",
              "      <td>001 00 0 001.00</td>\n",
              "    </tr>\n",
              "    <tr>\n",
              "      <th>1</th>\n",
              "      <td>12/05/2006</td>\n",
              "      <td>$7,500</td>\n",
              "      <td>WARRANTY DEED</td>\n",
              "      <td>20070109-0003943</td>\n",
              "      <td>001 00 0 001.00</td>\n",
              "    </tr>\n",
              "    <tr>\n",
              "      <th>2</th>\n",
              "      <td>09/15/1965</td>\n",
              "      <td>$0</td>\n",
              "      <td>WARRANTY DEED</td>\n",
              "      <td>00000137-0000216</td>\n",
              "      <td>001 00 0 001.00</td>\n",
              "    </tr>\n",
              "  </tbody>\n",
              "</table>\n",
              "</div>"
            ],
            "text/plain": [
              "    Sale Date Sale Price           Deed Type  Deed Book & Page           Parcel\n",
              "0  12/05/2006     $7,500  DEED OF CORRECTION  20110805-0060547  001 00 0 001.00\n",
              "1  12/05/2006     $7,500       WARRANTY DEED  20070109-0003943  001 00 0 001.00\n",
              "2  09/15/1965         $0       WARRANTY DEED  00000137-0000216  001 00 0 001.00"
            ]
          },
          "metadata": {
            "tags": []
          },
          "execution_count": 19
        }
      ]
    },
    {
      "cell_type": "code",
      "metadata": {
        "id": "8UGYQ3xVoR3g",
        "colab_type": "code",
        "colab": {}
      },
      "source": [
        "table = soup.table"
      ],
      "execution_count": 0,
      "outputs": []
    },
    {
      "cell_type": "code",
      "metadata": {
        "id": "dulb6pIdHw9c",
        "colab_type": "code",
        "outputId": "f5e87aa7-379b-497e-83a0-5ba621e61dac",
        "colab": {
          "base_uri": "https://localhost:8080/",
          "height": 118
        }
      },
      "source": [
        "table"
      ],
      "execution_count": 0,
      "outputs": [
        {
          "output_type": "execute_result",
          "data": {
            "text/plain": [
              "<table class=\"table table-condensed table-bordered\">\n",
              "<tr><th>Sale Date</th><th>Sale Price</th><th>Deed Type</th><th>Deed Book &amp; Page</th></tr>\n",
              "<tr><td>12/05/2006</td><td>$7,500</td><td>DEED OF CORRECTION</td><td>20110805-0060547</td></tr>\n",
              "<tr><td>12/05/2006</td><td>$7,500</td><td>WARRANTY DEED</td><td>20070109-0003943</td></tr>\n",
              "<tr><td>09/15/1965</td><td>$0</td><td>WARRANTY DEED</td><td>00000137-0000216</td></tr>\n",
              "</table>"
            ]
          },
          "metadata": {
            "tags": []
          },
          "execution_count": 43
        }
      ]
    },
    {
      "cell_type": "code",
      "metadata": {
        "id": "AS2HjdtPAmGd",
        "colab_type": "code",
        "colab": {}
      },
      "source": [
        "rows = table.find_all('tr')"
      ],
      "execution_count": 0,
      "outputs": []
    },
    {
      "cell_type": "code",
      "metadata": {
        "id": "SbHdchawBFSk",
        "colab_type": "code",
        "outputId": "de1a4a51-6289-43a6-da2e-bef2ab59207a",
        "colab": {
          "base_uri": "https://localhost:8080/",
          "height": 84
        }
      },
      "source": [
        "rows"
      ],
      "execution_count": 0,
      "outputs": [
        {
          "output_type": "execute_result",
          "data": {
            "text/plain": [
              "[<tr><th>Sale Date</th><th>Sale Price</th><th>Deed Type</th><th>Deed Book &amp; Page</th></tr>,\n",
              " <tr><td>12/05/2006</td><td>$7,500</td><td>DEED OF CORRECTION</td><td>20110805-0060547</td></tr>,\n",
              " <tr><td>12/05/2006</td><td>$7,500</td><td>WARRANTY DEED</td><td>20070109-0003943</td></tr>,\n",
              " <tr><td>09/15/1965</td><td>$0</td><td>WARRANTY DEED</td><td>00000137-0000216</td></tr>]"
            ]
          },
          "metadata": {
            "tags": []
          },
          "execution_count": 23
        }
      ]
    },
    {
      "cell_type": "code",
      "metadata": {
        "id": "hk1_9reKA__c",
        "colab_type": "code",
        "outputId": "9ac15cf0-f407-459f-ca01-8eb29fe0f0c8",
        "colab": {
          "base_uri": "https://localhost:8080/",
          "height": 151
        }
      },
      "source": [
        "tuples = []\n",
        "for tr in rows:\n",
        "  td = tr.find_all('td')\n",
        "  th = tr.find_all('th')\n",
        "  print(th)\n",
        "  print([i.text for i in th])\n",
        "  # row = [i.text for i in th]\n",
        "  # tuples.append([i.text for i in th])\n",
        "  # if row:\n",
        "    # print(row)\n",
        "    # tuples.append(row)"
      ],
      "execution_count": 0,
      "outputs": [
        {
          "output_type": "stream",
          "text": [
            "[<th>Sale Date</th>, <th>Sale Price</th>, <th>Deed Type</th>, <th>Deed Book &amp; Page</th>]\n",
            "['Sale Date', 'Sale Price', 'Deed Type', 'Deed Book & Page']\n",
            "[]\n",
            "[]\n",
            "[]\n",
            "[]\n",
            "[]\n",
            "[]\n"
          ],
          "name": "stdout"
        }
      ]
    },
    {
      "cell_type": "code",
      "metadata": {
        "id": "NT6cKU6UCeQz",
        "colab_type": "code",
        "outputId": "e3d11711-8465-4ad6-f3cb-d72dfdf324b1",
        "colab": {
          "base_uri": "https://localhost:8080/",
          "height": 67
        }
      },
      "source": [
        "tuples"
      ],
      "execution_count": 0,
      "outputs": [
        {
          "output_type": "execute_result",
          "data": {
            "text/plain": [
              "[['12/05/2006', '$7,500', 'DEED OF CORRECTION', '20110805-0060547'],\n",
              " ['12/05/2006', '$7,500', 'WARRANTY DEED', '20070109-0003943'],\n",
              " ['09/15/1965', '$0', 'WARRANTY DEED', '00000137-0000216']]"
            ]
          },
          "metadata": {
            "tags": []
          },
          "execution_count": 31
        }
      ]
    },
    {
      "cell_type": "code",
      "metadata": {
        "id": "qxdtd3tgpwbo",
        "colab_type": "code",
        "colab": {}
      },
      "source": [
        "import pandas as pd"
      ],
      "execution_count": 0,
      "outputs": []
    },
    {
      "cell_type": "code",
      "metadata": {
        "id": "U6bhiMWSs31v",
        "colab_type": "code",
        "colab": {}
      },
      "source": [
        "url = 'http://www.padctn.org/prc/property/1/card/1/historical'\n",
        "dfs = pd.read_html(requests.get(url,  headers={'User-agent': 'Mozilla/5.0'}).text,\n",
        "                      attrs={\"class\":\"table table-condensed table-bordered\"})"
      ],
      "execution_count": 0,
      "outputs": []
    },
    {
      "cell_type": "code",
      "metadata": {
        "id": "s0cDg6vjw4Y5",
        "colab_type": "code",
        "outputId": "4a19151b-15a4-4806-9931-ad273268dea3",
        "colab": {
          "base_uri": "https://localhost:8080/",
          "height": 402
        }
      },
      "source": [
        "dfs[1]"
      ],
      "execution_count": 0,
      "outputs": [
        {
          "output_type": "execute_result",
          "data": {
            "text/html": [
              "<div>\n",
              "<style scoped>\n",
              "    .dataframe tbody tr th:only-of-type {\n",
              "        vertical-align: middle;\n",
              "    }\n",
              "\n",
              "    .dataframe tbody tr th {\n",
              "        vertical-align: top;\n",
              "    }\n",
              "\n",
              "    .dataframe thead th {\n",
              "        text-align: right;\n",
              "    }\n",
              "</style>\n",
              "<table border=\"1\" class=\"dataframe\">\n",
              "  <thead>\n",
              "    <tr style=\"text-align: right;\">\n",
              "      <th></th>\n",
              "      <th>Year</th>\n",
              "      <th>Land Use Code</th>\n",
              "      <th>Building</th>\n",
              "      <th>Yard Items</th>\n",
              "      <th>Land Value</th>\n",
              "      <th>Category</th>\n",
              "      <th>Total</th>\n",
              "    </tr>\n",
              "  </thead>\n",
              "  <tbody>\n",
              "    <tr>\n",
              "      <th>0</th>\n",
              "      <td>2017</td>\n",
              "      <td>0AR - AG/RES</td>\n",
              "      <td>$0</td>\n",
              "      <td>$0</td>\n",
              "      <td>$10,621</td>\n",
              "      <td>INF</td>\n",
              "      <td>$10,621</td>\n",
              "    </tr>\n",
              "    <tr>\n",
              "      <th>1</th>\n",
              "      <td>2017</td>\n",
              "      <td>0AR - AG/RES</td>\n",
              "      <td>$0</td>\n",
              "      <td>$0</td>\n",
              "      <td>$10,621</td>\n",
              "      <td>ROLL</td>\n",
              "      <td>$10,621</td>\n",
              "    </tr>\n",
              "    <tr>\n",
              "      <th>2</th>\n",
              "      <td>2013</td>\n",
              "      <td>0RA - RES/AGR</td>\n",
              "      <td>$0</td>\n",
              "      <td>$0</td>\n",
              "      <td>$8,565</td>\n",
              "      <td>INF</td>\n",
              "      <td>$8,565</td>\n",
              "    </tr>\n",
              "    <tr>\n",
              "      <th>3</th>\n",
              "      <td>2013</td>\n",
              "      <td>0RA - RES/AGR</td>\n",
              "      <td>$0</td>\n",
              "      <td>$0</td>\n",
              "      <td>$8,565</td>\n",
              "      <td>ROLL</td>\n",
              "      <td>$8,565</td>\n",
              "    </tr>\n",
              "    <tr>\n",
              "      <th>4</th>\n",
              "      <td>2009</td>\n",
              "      <td>0RA - RES/AGR</td>\n",
              "      <td>$0</td>\n",
              "      <td>$0</td>\n",
              "      <td>$6,909</td>\n",
              "      <td>INF</td>\n",
              "      <td>$6,909</td>\n",
              "    </tr>\n",
              "    <tr>\n",
              "      <th>5</th>\n",
              "      <td>2009</td>\n",
              "      <td>0RA - RES/AGR</td>\n",
              "      <td>$0</td>\n",
              "      <td>$0</td>\n",
              "      <td>$6,909</td>\n",
              "      <td>ROLL</td>\n",
              "      <td>$6,909</td>\n",
              "    </tr>\n",
              "    <tr>\n",
              "      <th>6</th>\n",
              "      <td>2008</td>\n",
              "      <td>0RA - RES/AGR</td>\n",
              "      <td>$0</td>\n",
              "      <td>$0</td>\n",
              "      <td>$5,572</td>\n",
              "      <td>JUNE</td>\n",
              "      <td>$5,572</td>\n",
              "    </tr>\n",
              "    <tr>\n",
              "      <th>7</th>\n",
              "      <td>2008</td>\n",
              "      <td>0RA - RES/AGR</td>\n",
              "      <td>$0</td>\n",
              "      <td>$0</td>\n",
              "      <td>$5,572</td>\n",
              "      <td>ROLL</td>\n",
              "      <td>$5,572</td>\n",
              "    </tr>\n",
              "    <tr>\n",
              "      <th>8</th>\n",
              "      <td>2005</td>\n",
              "      <td>E80 - EXE</td>\n",
              "      <td>$0</td>\n",
              "      <td>$0</td>\n",
              "      <td>$25,800</td>\n",
              "      <td>ROLL</td>\n",
              "      <td>$25,800</td>\n",
              "    </tr>\n",
              "    <tr>\n",
              "      <th>9</th>\n",
              "      <td>2001</td>\n",
              "      <td>E80 - EXE</td>\n",
              "      <td>$0</td>\n",
              "      <td>$0</td>\n",
              "      <td>$22,800</td>\n",
              "      <td>ROLL</td>\n",
              "      <td>$22,800</td>\n",
              "    </tr>\n",
              "    <tr>\n",
              "      <th>10</th>\n",
              "      <td>2000</td>\n",
              "      <td>E80 - EXE</td>\n",
              "      <td>$0</td>\n",
              "      <td>$0</td>\n",
              "      <td>$16,100</td>\n",
              "      <td>ROLL</td>\n",
              "      <td>$16,100</td>\n",
              "    </tr>\n",
              "    <tr>\n",
              "      <th>11</th>\n",
              "      <td>1999</td>\n",
              "      <td>E80 - EXE</td>\n",
              "      <td>$0</td>\n",
              "      <td>$0</td>\n",
              "      <td>$16,100</td>\n",
              "      <td>ROLL</td>\n",
              "      <td>$16,100</td>\n",
              "    </tr>\n",
              "  </tbody>\n",
              "</table>\n",
              "</div>"
            ],
            "text/plain": [
              "    Year  Land Use Code Building Yard Items Land Value Category    Total\n",
              "0   2017   0AR - AG/RES       $0         $0    $10,621      INF  $10,621\n",
              "1   2017   0AR - AG/RES       $0         $0    $10,621     ROLL  $10,621\n",
              "2   2013  0RA - RES/AGR       $0         $0     $8,565      INF   $8,565\n",
              "3   2013  0RA - RES/AGR       $0         $0     $8,565     ROLL   $8,565\n",
              "4   2009  0RA - RES/AGR       $0         $0     $6,909      INF   $6,909\n",
              "5   2009  0RA - RES/AGR       $0         $0     $6,909     ROLL   $6,909\n",
              "6   2008  0RA - RES/AGR       $0         $0     $5,572     JUNE   $5,572\n",
              "7   2008  0RA - RES/AGR       $0         $0     $5,572     ROLL   $5,572\n",
              "8   2005      E80 - EXE       $0         $0    $25,800     ROLL  $25,800\n",
              "9   2001      E80 - EXE       $0         $0    $22,800     ROLL  $22,800\n",
              "10  2000      E80 - EXE       $0         $0    $16,100     ROLL  $16,100\n",
              "11  1999      E80 - EXE       $0         $0    $16,100     ROLL  $16,100"
            ]
          },
          "metadata": {
            "tags": []
          },
          "execution_count": 83
        }
      ]
    },
    {
      "cell_type": "code",
      "metadata": {
        "id": "AgOqlBIFs7ut",
        "colab_type": "code",
        "colab": {
          "base_uri": "https://localhost:8080/",
          "height": 493
        },
        "outputId": "cbc2224f-4846-4594-8190-d4f5a407586b"
      },
      "source": [
        "url = 'http://www.padctn.org/prc/property/1/card/1/historical'\n",
        "page = requests.get(url)\n",
        "soup = bs(page.text, 'html.parser')\n",
        "parcel = soup.h2.text\n",
        "parcel = ' '.join(parcel.split()[6:])\n",
        "df = pd.read_html(requests.get(url,  headers={'User-agent': 'Mozilla/5.0'}).text,\n",
        "                      attrs={\"class\":\"table table-condensed table-bordered\"})[0]\n",
        "\n",
        "df['Parcel'] = [parcel]*len(df)\n",
        "i = 2\n",
        "while True:\n",
        "  url = 'http://www.padctn.org/prc/property/' + str(i) + '/card/' + str(i) + '/historical'\n",
        "  page = requests.get(url)\n",
        "  soup = bs(page.text, 'html.parser')\n",
        "  parcel = soup.h2.text\n",
        "  parcel = ' '.join(parcel.split()[6:])\n",
        "  \n",
        "  dfs = pd.read_html(requests.get(url,  headers={'User-agent': 'Mozilla/5.0'}).text,\n",
        "                        attrs={\"class\":\"table table-condensed table-bordered\"})\n",
        "  dfs[0]['Parcel'] = [parcel]*len(dfs[0])\n",
        "  print(i, end=' ')\n",
        "  if np.any(dfs[0]) or np.any(dfs[1]):\n",
        "    df = pd.concat([df, dfs[0]] )\n",
        "    i = i+1\n",
        "  else:\n",
        "    print ('Table Empty, Exiting...')\n",
        "    print (table)\n",
        "    break\n",
        "  if i % 10 == 1:\n",
        "    print()\n",
        "  # time.sleep(3)"
      ],
      "execution_count": 23,
      "outputs": [
        {
          "output_type": "stream",
          "text": [
            "2 3 4 5 6 7 8 9 10 \n",
            "11 12 13 14 15 16 17 18 19 20 \n",
            "21 22 23 24 25 26 27 28 29 30 \n",
            "31 32 33 34 35 36 37 38 39 40 \n"
          ],
          "name": "stdout"
        },
        {
          "output_type": "error",
          "ename": "KeyboardInterrupt",
          "evalue": "ignored",
          "traceback": [
            "\u001b[0;31m---------------------------------------------------------------------------\u001b[0m",
            "\u001b[0;31mTypeError\u001b[0m                                 Traceback (most recent call last)",
            "\u001b[0;32m/usr/local/lib/python3.6/dist-packages/urllib3/connectionpool.py\u001b[0m in \u001b[0;36m_make_request\u001b[0;34m(self, conn, method, url, timeout, chunked, **httplib_request_kw)\u001b[0m\n\u001b[1;32m    376\u001b[0m             \u001b[0;32mtry\u001b[0m\u001b[0;34m:\u001b[0m  \u001b[0;31m# Python 2.7, use buffering of HTTP responses\u001b[0m\u001b[0;34m\u001b[0m\u001b[0;34m\u001b[0m\u001b[0m\n\u001b[0;32m--> 377\u001b[0;31m                 \u001b[0mhttplib_response\u001b[0m \u001b[0;34m=\u001b[0m \u001b[0mconn\u001b[0m\u001b[0;34m.\u001b[0m\u001b[0mgetresponse\u001b[0m\u001b[0;34m(\u001b[0m\u001b[0mbuffering\u001b[0m\u001b[0;34m=\u001b[0m\u001b[0;32mTrue\u001b[0m\u001b[0;34m)\u001b[0m\u001b[0;34m\u001b[0m\u001b[0;34m\u001b[0m\u001b[0m\n\u001b[0m\u001b[1;32m    378\u001b[0m             \u001b[0;32mexcept\u001b[0m \u001b[0mTypeError\u001b[0m\u001b[0;34m:\u001b[0m  \u001b[0;31m# Python 3\u001b[0m\u001b[0;34m\u001b[0m\u001b[0;34m\u001b[0m\u001b[0m\n",
            "\u001b[0;31mTypeError\u001b[0m: getresponse() got an unexpected keyword argument 'buffering'",
            "\nDuring handling of the above exception, another exception occurred:\n",
            "\u001b[0;31mKeyboardInterrupt\u001b[0m                         Traceback (most recent call last)",
            "\u001b[0;32m<ipython-input-23-0d5e2e2bbd7d>\u001b[0m in \u001b[0;36m<module>\u001b[0;34m()\u001b[0m\n\u001b[1;32m     16\u001b[0m   \u001b[0mparcel\u001b[0m \u001b[0;34m=\u001b[0m \u001b[0;34m' '\u001b[0m\u001b[0;34m.\u001b[0m\u001b[0mjoin\u001b[0m\u001b[0;34m(\u001b[0m\u001b[0mparcel\u001b[0m\u001b[0;34m.\u001b[0m\u001b[0msplit\u001b[0m\u001b[0;34m(\u001b[0m\u001b[0;34m)\u001b[0m\u001b[0;34m[\u001b[0m\u001b[0;36m6\u001b[0m\u001b[0;34m:\u001b[0m\u001b[0;34m]\u001b[0m\u001b[0;34m)\u001b[0m\u001b[0;34m\u001b[0m\u001b[0;34m\u001b[0m\u001b[0m\n\u001b[1;32m     17\u001b[0m \u001b[0;34m\u001b[0m\u001b[0m\n\u001b[0;32m---> 18\u001b[0;31m   dfs = pd.read_html(requests.get(url,  headers={'User-agent': 'Mozilla/5.0'}).text,\n\u001b[0m\u001b[1;32m     19\u001b[0m                         attrs={\"class\":\"table table-condensed table-bordered\"})\n\u001b[1;32m     20\u001b[0m   \u001b[0mdfs\u001b[0m\u001b[0;34m[\u001b[0m\u001b[0;36m0\u001b[0m\u001b[0;34m]\u001b[0m\u001b[0;34m[\u001b[0m\u001b[0;34m'Parcel'\u001b[0m\u001b[0;34m]\u001b[0m \u001b[0;34m=\u001b[0m \u001b[0;34m[\u001b[0m\u001b[0mparcel\u001b[0m\u001b[0;34m]\u001b[0m\u001b[0;34m*\u001b[0m\u001b[0mlen\u001b[0m\u001b[0;34m(\u001b[0m\u001b[0mdfs\u001b[0m\u001b[0;34m[\u001b[0m\u001b[0;36m0\u001b[0m\u001b[0;34m]\u001b[0m\u001b[0;34m)\u001b[0m\u001b[0;34m\u001b[0m\u001b[0;34m\u001b[0m\u001b[0m\n",
            "\u001b[0;32m/usr/local/lib/python3.6/dist-packages/requests/api.py\u001b[0m in \u001b[0;36mget\u001b[0;34m(url, params, **kwargs)\u001b[0m\n\u001b[1;32m     74\u001b[0m \u001b[0;34m\u001b[0m\u001b[0m\n\u001b[1;32m     75\u001b[0m     \u001b[0mkwargs\u001b[0m\u001b[0;34m.\u001b[0m\u001b[0msetdefault\u001b[0m\u001b[0;34m(\u001b[0m\u001b[0;34m'allow_redirects'\u001b[0m\u001b[0;34m,\u001b[0m \u001b[0;32mTrue\u001b[0m\u001b[0;34m)\u001b[0m\u001b[0;34m\u001b[0m\u001b[0;34m\u001b[0m\u001b[0m\n\u001b[0;32m---> 76\u001b[0;31m     \u001b[0;32mreturn\u001b[0m \u001b[0mrequest\u001b[0m\u001b[0;34m(\u001b[0m\u001b[0;34m'get'\u001b[0m\u001b[0;34m,\u001b[0m \u001b[0murl\u001b[0m\u001b[0;34m,\u001b[0m \u001b[0mparams\u001b[0m\u001b[0;34m=\u001b[0m\u001b[0mparams\u001b[0m\u001b[0;34m,\u001b[0m \u001b[0;34m**\u001b[0m\u001b[0mkwargs\u001b[0m\u001b[0;34m)\u001b[0m\u001b[0;34m\u001b[0m\u001b[0;34m\u001b[0m\u001b[0m\n\u001b[0m\u001b[1;32m     77\u001b[0m \u001b[0;34m\u001b[0m\u001b[0m\n\u001b[1;32m     78\u001b[0m \u001b[0;34m\u001b[0m\u001b[0m\n",
            "\u001b[0;32m/usr/local/lib/python3.6/dist-packages/requests/api.py\u001b[0m in \u001b[0;36mrequest\u001b[0;34m(method, url, **kwargs)\u001b[0m\n\u001b[1;32m     59\u001b[0m     \u001b[0;31m# cases, and look like a memory leak in others.\u001b[0m\u001b[0;34m\u001b[0m\u001b[0;34m\u001b[0m\u001b[0;34m\u001b[0m\u001b[0m\n\u001b[1;32m     60\u001b[0m     \u001b[0;32mwith\u001b[0m \u001b[0msessions\u001b[0m\u001b[0;34m.\u001b[0m\u001b[0mSession\u001b[0m\u001b[0;34m(\u001b[0m\u001b[0;34m)\u001b[0m \u001b[0;32mas\u001b[0m \u001b[0msession\u001b[0m\u001b[0;34m:\u001b[0m\u001b[0;34m\u001b[0m\u001b[0;34m\u001b[0m\u001b[0m\n\u001b[0;32m---> 61\u001b[0;31m         \u001b[0;32mreturn\u001b[0m \u001b[0msession\u001b[0m\u001b[0;34m.\u001b[0m\u001b[0mrequest\u001b[0m\u001b[0;34m(\u001b[0m\u001b[0mmethod\u001b[0m\u001b[0;34m=\u001b[0m\u001b[0mmethod\u001b[0m\u001b[0;34m,\u001b[0m \u001b[0murl\u001b[0m\u001b[0;34m=\u001b[0m\u001b[0murl\u001b[0m\u001b[0;34m,\u001b[0m \u001b[0;34m**\u001b[0m\u001b[0mkwargs\u001b[0m\u001b[0;34m)\u001b[0m\u001b[0;34m\u001b[0m\u001b[0;34m\u001b[0m\u001b[0m\n\u001b[0m\u001b[1;32m     62\u001b[0m \u001b[0;34m\u001b[0m\u001b[0m\n\u001b[1;32m     63\u001b[0m \u001b[0;34m\u001b[0m\u001b[0m\n",
            "\u001b[0;32m/usr/local/lib/python3.6/dist-packages/requests/sessions.py\u001b[0m in \u001b[0;36mrequest\u001b[0;34m(self, method, url, params, data, headers, cookies, files, auth, timeout, allow_redirects, proxies, hooks, stream, verify, cert, json)\u001b[0m\n\u001b[1;32m    528\u001b[0m         }\n\u001b[1;32m    529\u001b[0m         \u001b[0msend_kwargs\u001b[0m\u001b[0;34m.\u001b[0m\u001b[0mupdate\u001b[0m\u001b[0;34m(\u001b[0m\u001b[0msettings\u001b[0m\u001b[0;34m)\u001b[0m\u001b[0;34m\u001b[0m\u001b[0;34m\u001b[0m\u001b[0m\n\u001b[0;32m--> 530\u001b[0;31m         \u001b[0mresp\u001b[0m \u001b[0;34m=\u001b[0m \u001b[0mself\u001b[0m\u001b[0;34m.\u001b[0m\u001b[0msend\u001b[0m\u001b[0;34m(\u001b[0m\u001b[0mprep\u001b[0m\u001b[0;34m,\u001b[0m \u001b[0;34m**\u001b[0m\u001b[0msend_kwargs\u001b[0m\u001b[0;34m)\u001b[0m\u001b[0;34m\u001b[0m\u001b[0;34m\u001b[0m\u001b[0m\n\u001b[0m\u001b[1;32m    531\u001b[0m \u001b[0;34m\u001b[0m\u001b[0m\n\u001b[1;32m    532\u001b[0m         \u001b[0;32mreturn\u001b[0m \u001b[0mresp\u001b[0m\u001b[0;34m\u001b[0m\u001b[0;34m\u001b[0m\u001b[0m\n",
            "\u001b[0;32m/usr/local/lib/python3.6/dist-packages/requests/sessions.py\u001b[0m in \u001b[0;36msend\u001b[0;34m(self, request, **kwargs)\u001b[0m\n\u001b[1;32m    641\u001b[0m \u001b[0;34m\u001b[0m\u001b[0m\n\u001b[1;32m    642\u001b[0m         \u001b[0;31m# Send the request\u001b[0m\u001b[0;34m\u001b[0m\u001b[0;34m\u001b[0m\u001b[0;34m\u001b[0m\u001b[0m\n\u001b[0;32m--> 643\u001b[0;31m         \u001b[0mr\u001b[0m \u001b[0;34m=\u001b[0m \u001b[0madapter\u001b[0m\u001b[0;34m.\u001b[0m\u001b[0msend\u001b[0m\u001b[0;34m(\u001b[0m\u001b[0mrequest\u001b[0m\u001b[0;34m,\u001b[0m \u001b[0;34m**\u001b[0m\u001b[0mkwargs\u001b[0m\u001b[0;34m)\u001b[0m\u001b[0;34m\u001b[0m\u001b[0;34m\u001b[0m\u001b[0m\n\u001b[0m\u001b[1;32m    644\u001b[0m \u001b[0;34m\u001b[0m\u001b[0m\n\u001b[1;32m    645\u001b[0m         \u001b[0;31m# Total elapsed time of the request (approximately)\u001b[0m\u001b[0;34m\u001b[0m\u001b[0;34m\u001b[0m\u001b[0;34m\u001b[0m\u001b[0m\n",
            "\u001b[0;32m/usr/local/lib/python3.6/dist-packages/requests/adapters.py\u001b[0m in \u001b[0;36msend\u001b[0;34m(self, request, stream, timeout, verify, cert, proxies)\u001b[0m\n\u001b[1;32m    447\u001b[0m                     \u001b[0mdecode_content\u001b[0m\u001b[0;34m=\u001b[0m\u001b[0;32mFalse\u001b[0m\u001b[0;34m,\u001b[0m\u001b[0;34m\u001b[0m\u001b[0;34m\u001b[0m\u001b[0m\n\u001b[1;32m    448\u001b[0m                     \u001b[0mretries\u001b[0m\u001b[0;34m=\u001b[0m\u001b[0mself\u001b[0m\u001b[0;34m.\u001b[0m\u001b[0mmax_retries\u001b[0m\u001b[0;34m,\u001b[0m\u001b[0;34m\u001b[0m\u001b[0;34m\u001b[0m\u001b[0m\n\u001b[0;32m--> 449\u001b[0;31m                     \u001b[0mtimeout\u001b[0m\u001b[0;34m=\u001b[0m\u001b[0mtimeout\u001b[0m\u001b[0;34m\u001b[0m\u001b[0;34m\u001b[0m\u001b[0m\n\u001b[0m\u001b[1;32m    450\u001b[0m                 )\n\u001b[1;32m    451\u001b[0m \u001b[0;34m\u001b[0m\u001b[0m\n",
            "\u001b[0;32m/usr/local/lib/python3.6/dist-packages/urllib3/connectionpool.py\u001b[0m in \u001b[0;36murlopen\u001b[0;34m(self, method, url, body, headers, retries, redirect, assert_same_host, timeout, pool_timeout, release_conn, chunked, body_pos, **response_kw)\u001b[0m\n\u001b[1;32m    598\u001b[0m                                                   \u001b[0mtimeout\u001b[0m\u001b[0;34m=\u001b[0m\u001b[0mtimeout_obj\u001b[0m\u001b[0;34m,\u001b[0m\u001b[0;34m\u001b[0m\u001b[0;34m\u001b[0m\u001b[0m\n\u001b[1;32m    599\u001b[0m                                                   \u001b[0mbody\u001b[0m\u001b[0;34m=\u001b[0m\u001b[0mbody\u001b[0m\u001b[0;34m,\u001b[0m \u001b[0mheaders\u001b[0m\u001b[0;34m=\u001b[0m\u001b[0mheaders\u001b[0m\u001b[0;34m,\u001b[0m\u001b[0;34m\u001b[0m\u001b[0;34m\u001b[0m\u001b[0m\n\u001b[0;32m--> 600\u001b[0;31m                                                   chunked=chunked)\n\u001b[0m\u001b[1;32m    601\u001b[0m \u001b[0;34m\u001b[0m\u001b[0m\n\u001b[1;32m    602\u001b[0m             \u001b[0;31m# If we're going to release the connection in ``finally:``, then\u001b[0m\u001b[0;34m\u001b[0m\u001b[0;34m\u001b[0m\u001b[0;34m\u001b[0m\u001b[0m\n",
            "\u001b[0;32m/usr/local/lib/python3.6/dist-packages/urllib3/connectionpool.py\u001b[0m in \u001b[0;36m_make_request\u001b[0;34m(self, conn, method, url, timeout, chunked, **httplib_request_kw)\u001b[0m\n\u001b[1;32m    378\u001b[0m             \u001b[0;32mexcept\u001b[0m \u001b[0mTypeError\u001b[0m\u001b[0;34m:\u001b[0m  \u001b[0;31m# Python 3\u001b[0m\u001b[0;34m\u001b[0m\u001b[0;34m\u001b[0m\u001b[0m\n\u001b[1;32m    379\u001b[0m                 \u001b[0;32mtry\u001b[0m\u001b[0;34m:\u001b[0m\u001b[0;34m\u001b[0m\u001b[0;34m\u001b[0m\u001b[0m\n\u001b[0;32m--> 380\u001b[0;31m                     \u001b[0mhttplib_response\u001b[0m \u001b[0;34m=\u001b[0m \u001b[0mconn\u001b[0m\u001b[0;34m.\u001b[0m\u001b[0mgetresponse\u001b[0m\u001b[0;34m(\u001b[0m\u001b[0;34m)\u001b[0m\u001b[0;34m\u001b[0m\u001b[0;34m\u001b[0m\u001b[0m\n\u001b[0m\u001b[1;32m    381\u001b[0m                 \u001b[0;32mexcept\u001b[0m \u001b[0mException\u001b[0m \u001b[0;32mas\u001b[0m \u001b[0me\u001b[0m\u001b[0;34m:\u001b[0m\u001b[0;34m\u001b[0m\u001b[0;34m\u001b[0m\u001b[0m\n\u001b[1;32m    382\u001b[0m                     \u001b[0;31m# Remove the TypeError from the exception chain in Python 3;\u001b[0m\u001b[0;34m\u001b[0m\u001b[0;34m\u001b[0m\u001b[0;34m\u001b[0m\u001b[0m\n",
            "\u001b[0;32m/usr/lib/python3.6/http/client.py\u001b[0m in \u001b[0;36mgetresponse\u001b[0;34m(self)\u001b[0m\n\u001b[1;32m   1354\u001b[0m         \u001b[0;32mtry\u001b[0m\u001b[0;34m:\u001b[0m\u001b[0;34m\u001b[0m\u001b[0;34m\u001b[0m\u001b[0m\n\u001b[1;32m   1355\u001b[0m             \u001b[0;32mtry\u001b[0m\u001b[0;34m:\u001b[0m\u001b[0;34m\u001b[0m\u001b[0;34m\u001b[0m\u001b[0m\n\u001b[0;32m-> 1356\u001b[0;31m                 \u001b[0mresponse\u001b[0m\u001b[0;34m.\u001b[0m\u001b[0mbegin\u001b[0m\u001b[0;34m(\u001b[0m\u001b[0;34m)\u001b[0m\u001b[0;34m\u001b[0m\u001b[0;34m\u001b[0m\u001b[0m\n\u001b[0m\u001b[1;32m   1357\u001b[0m             \u001b[0;32mexcept\u001b[0m \u001b[0mConnectionError\u001b[0m\u001b[0;34m:\u001b[0m\u001b[0;34m\u001b[0m\u001b[0;34m\u001b[0m\u001b[0m\n\u001b[1;32m   1358\u001b[0m                 \u001b[0mself\u001b[0m\u001b[0;34m.\u001b[0m\u001b[0mclose\u001b[0m\u001b[0;34m(\u001b[0m\u001b[0;34m)\u001b[0m\u001b[0;34m\u001b[0m\u001b[0;34m\u001b[0m\u001b[0m\n",
            "\u001b[0;32m/usr/lib/python3.6/http/client.py\u001b[0m in \u001b[0;36mbegin\u001b[0;34m(self)\u001b[0m\n\u001b[1;32m    305\u001b[0m         \u001b[0;31m# read until we get a non-100 response\u001b[0m\u001b[0;34m\u001b[0m\u001b[0;34m\u001b[0m\u001b[0;34m\u001b[0m\u001b[0m\n\u001b[1;32m    306\u001b[0m         \u001b[0;32mwhile\u001b[0m \u001b[0;32mTrue\u001b[0m\u001b[0;34m:\u001b[0m\u001b[0;34m\u001b[0m\u001b[0;34m\u001b[0m\u001b[0m\n\u001b[0;32m--> 307\u001b[0;31m             \u001b[0mversion\u001b[0m\u001b[0;34m,\u001b[0m \u001b[0mstatus\u001b[0m\u001b[0;34m,\u001b[0m \u001b[0mreason\u001b[0m \u001b[0;34m=\u001b[0m \u001b[0mself\u001b[0m\u001b[0;34m.\u001b[0m\u001b[0m_read_status\u001b[0m\u001b[0;34m(\u001b[0m\u001b[0;34m)\u001b[0m\u001b[0;34m\u001b[0m\u001b[0;34m\u001b[0m\u001b[0m\n\u001b[0m\u001b[1;32m    308\u001b[0m             \u001b[0;32mif\u001b[0m \u001b[0mstatus\u001b[0m \u001b[0;34m!=\u001b[0m \u001b[0mCONTINUE\u001b[0m\u001b[0;34m:\u001b[0m\u001b[0;34m\u001b[0m\u001b[0;34m\u001b[0m\u001b[0m\n\u001b[1;32m    309\u001b[0m                 \u001b[0;32mbreak\u001b[0m\u001b[0;34m\u001b[0m\u001b[0;34m\u001b[0m\u001b[0m\n",
            "\u001b[0;32m/usr/lib/python3.6/http/client.py\u001b[0m in \u001b[0;36m_read_status\u001b[0;34m(self)\u001b[0m\n\u001b[1;32m    266\u001b[0m \u001b[0;34m\u001b[0m\u001b[0m\n\u001b[1;32m    267\u001b[0m     \u001b[0;32mdef\u001b[0m \u001b[0m_read_status\u001b[0m\u001b[0;34m(\u001b[0m\u001b[0mself\u001b[0m\u001b[0;34m)\u001b[0m\u001b[0;34m:\u001b[0m\u001b[0;34m\u001b[0m\u001b[0;34m\u001b[0m\u001b[0m\n\u001b[0;32m--> 268\u001b[0;31m         \u001b[0mline\u001b[0m \u001b[0;34m=\u001b[0m \u001b[0mstr\u001b[0m\u001b[0;34m(\u001b[0m\u001b[0mself\u001b[0m\u001b[0;34m.\u001b[0m\u001b[0mfp\u001b[0m\u001b[0;34m.\u001b[0m\u001b[0mreadline\u001b[0m\u001b[0;34m(\u001b[0m\u001b[0m_MAXLINE\u001b[0m \u001b[0;34m+\u001b[0m \u001b[0;36m1\u001b[0m\u001b[0;34m)\u001b[0m\u001b[0;34m,\u001b[0m \u001b[0;34m\"iso-8859-1\"\u001b[0m\u001b[0;34m)\u001b[0m\u001b[0;34m\u001b[0m\u001b[0;34m\u001b[0m\u001b[0m\n\u001b[0m\u001b[1;32m    269\u001b[0m         \u001b[0;32mif\u001b[0m \u001b[0mlen\u001b[0m\u001b[0;34m(\u001b[0m\u001b[0mline\u001b[0m\u001b[0;34m)\u001b[0m \u001b[0;34m>\u001b[0m \u001b[0m_MAXLINE\u001b[0m\u001b[0;34m:\u001b[0m\u001b[0;34m\u001b[0m\u001b[0;34m\u001b[0m\u001b[0m\n\u001b[1;32m    270\u001b[0m             \u001b[0;32mraise\u001b[0m \u001b[0mLineTooLong\u001b[0m\u001b[0;34m(\u001b[0m\u001b[0;34m\"status line\"\u001b[0m\u001b[0;34m)\u001b[0m\u001b[0;34m\u001b[0m\u001b[0;34m\u001b[0m\u001b[0m\n",
            "\u001b[0;32m/usr/lib/python3.6/socket.py\u001b[0m in \u001b[0;36mreadinto\u001b[0;34m(self, b)\u001b[0m\n\u001b[1;32m    584\u001b[0m         \u001b[0;32mwhile\u001b[0m \u001b[0;32mTrue\u001b[0m\u001b[0;34m:\u001b[0m\u001b[0;34m\u001b[0m\u001b[0;34m\u001b[0m\u001b[0m\n\u001b[1;32m    585\u001b[0m             \u001b[0;32mtry\u001b[0m\u001b[0;34m:\u001b[0m\u001b[0;34m\u001b[0m\u001b[0;34m\u001b[0m\u001b[0m\n\u001b[0;32m--> 586\u001b[0;31m                 \u001b[0;32mreturn\u001b[0m \u001b[0mself\u001b[0m\u001b[0;34m.\u001b[0m\u001b[0m_sock\u001b[0m\u001b[0;34m.\u001b[0m\u001b[0mrecv_into\u001b[0m\u001b[0;34m(\u001b[0m\u001b[0mb\u001b[0m\u001b[0;34m)\u001b[0m\u001b[0;34m\u001b[0m\u001b[0;34m\u001b[0m\u001b[0m\n\u001b[0m\u001b[1;32m    587\u001b[0m             \u001b[0;32mexcept\u001b[0m \u001b[0mtimeout\u001b[0m\u001b[0;34m:\u001b[0m\u001b[0;34m\u001b[0m\u001b[0;34m\u001b[0m\u001b[0m\n\u001b[1;32m    588\u001b[0m                 \u001b[0mself\u001b[0m\u001b[0;34m.\u001b[0m\u001b[0m_timeout_occurred\u001b[0m \u001b[0;34m=\u001b[0m \u001b[0;32mTrue\u001b[0m\u001b[0;34m\u001b[0m\u001b[0;34m\u001b[0m\u001b[0m\n",
            "\u001b[0;31mKeyboardInterrupt\u001b[0m: "
          ]
        }
      ]
    },
    {
      "cell_type": "code",
      "metadata": {
        "id": "JPk6z2wLI47N",
        "colab_type": "code",
        "outputId": "4782fd56-98cf-4f70-842f-e79e98fd9305",
        "colab": {
          "base_uri": "https://localhost:8080/",
          "height": 419
        }
      },
      "source": [
        "df"
      ],
      "execution_count": 24,
      "outputs": [
        {
          "output_type": "execute_result",
          "data": {
            "text/html": [
              "<div>\n",
              "<style scoped>\n",
              "    .dataframe tbody tr th:only-of-type {\n",
              "        vertical-align: middle;\n",
              "    }\n",
              "\n",
              "    .dataframe tbody tr th {\n",
              "        vertical-align: top;\n",
              "    }\n",
              "\n",
              "    .dataframe thead th {\n",
              "        text-align: right;\n",
              "    }\n",
              "</style>\n",
              "<table border=\"1\" class=\"dataframe\">\n",
              "  <thead>\n",
              "    <tr style=\"text-align: right;\">\n",
              "      <th></th>\n",
              "      <th>Sale Date</th>\n",
              "      <th>Sale Price</th>\n",
              "      <th>Deed Type</th>\n",
              "      <th>Deed Book &amp; Page</th>\n",
              "      <th>Parcel</th>\n",
              "    </tr>\n",
              "  </thead>\n",
              "  <tbody>\n",
              "    <tr>\n",
              "      <th>0</th>\n",
              "      <td>12/05/2006</td>\n",
              "      <td>$7,500</td>\n",
              "      <td>DEED OF CORRECTION</td>\n",
              "      <td>20110805-0060547</td>\n",
              "      <td>001 00 0 001.00</td>\n",
              "    </tr>\n",
              "    <tr>\n",
              "      <th>1</th>\n",
              "      <td>12/05/2006</td>\n",
              "      <td>$7,500</td>\n",
              "      <td>WARRANTY DEED</td>\n",
              "      <td>20070109-0003943</td>\n",
              "      <td>001 00 0 001.00</td>\n",
              "    </tr>\n",
              "    <tr>\n",
              "      <th>2</th>\n",
              "      <td>09/15/1965</td>\n",
              "      <td>$0</td>\n",
              "      <td>WARRANTY DEED</td>\n",
              "      <td>00000137-0000216</td>\n",
              "      <td>001 00 0 001.00</td>\n",
              "    </tr>\n",
              "    <tr>\n",
              "      <th>0</th>\n",
              "      <td>05/17/1983</td>\n",
              "      <td>$12,500</td>\n",
              "      <td>WARRANTY DEED</td>\n",
              "      <td>00006058-0000985</td>\n",
              "      <td>001 00 0 002.00</td>\n",
              "    </tr>\n",
              "    <tr>\n",
              "      <th>1</th>\n",
              "      <td>01/06/1972</td>\n",
              "      <td>$0</td>\n",
              "      <td>WARRANTY DEED</td>\n",
              "      <td>00005797-0000390</td>\n",
              "      <td>001 00 0 002.00</td>\n",
              "    </tr>\n",
              "    <tr>\n",
              "      <th>...</th>\n",
              "      <td>...</td>\n",
              "      <td>...</td>\n",
              "      <td>...</td>\n",
              "      <td>...</td>\n",
              "      <td>...</td>\n",
              "    </tr>\n",
              "    <tr>\n",
              "      <th>2</th>\n",
              "      <td>10/10/1974</td>\n",
              "      <td>$41,300</td>\n",
              "      <td>WARRANTY DEED</td>\n",
              "      <td>00006409-0000762</td>\n",
              "      <td>002 00 0 023.00</td>\n",
              "    </tr>\n",
              "    <tr>\n",
              "      <th>3</th>\n",
              "      <td>01/22/1953</td>\n",
              "      <td>$0</td>\n",
              "      <td>WARRANTY DEED</td>\n",
              "      <td>00002539-0000482</td>\n",
              "      <td>002 00 0 023.00</td>\n",
              "    </tr>\n",
              "    <tr>\n",
              "      <th>0</th>\n",
              "      <td>08/30/1982</td>\n",
              "      <td>$21,682</td>\n",
              "      <td>WARRANTY DEED</td>\n",
              "      <td>00005931-0000475</td>\n",
              "      <td>002 00 0 024.00</td>\n",
              "    </tr>\n",
              "    <tr>\n",
              "      <th>1</th>\n",
              "      <td>10/14/1981</td>\n",
              "      <td>$40,000</td>\n",
              "      <td>WARRANTY DEED</td>\n",
              "      <td>00005816-0000873</td>\n",
              "      <td>002 00 0 024.00</td>\n",
              "    </tr>\n",
              "    <tr>\n",
              "      <th>2</th>\n",
              "      <td>09/30/1968</td>\n",
              "      <td>$0</td>\n",
              "      <td>WARRANTY DEED</td>\n",
              "      <td>00004275-0000956</td>\n",
              "      <td>002 00 0 024.00</td>\n",
              "    </tr>\n",
              "  </tbody>\n",
              "</table>\n",
              "<p>120 rows × 5 columns</p>\n",
              "</div>"
            ],
            "text/plain": [
              "     Sale Date Sale Price  ...  Deed Book & Page           Parcel\n",
              "0   12/05/2006     $7,500  ...  20110805-0060547  001 00 0 001.00\n",
              "1   12/05/2006     $7,500  ...  20070109-0003943  001 00 0 001.00\n",
              "2   09/15/1965         $0  ...  00000137-0000216  001 00 0 001.00\n",
              "0   05/17/1983    $12,500  ...  00006058-0000985  001 00 0 002.00\n",
              "1   01/06/1972         $0  ...  00005797-0000390  001 00 0 002.00\n",
              "..         ...        ...  ...               ...              ...\n",
              "2   10/10/1974    $41,300  ...  00006409-0000762  002 00 0 023.00\n",
              "3   01/22/1953         $0  ...  00002539-0000482  002 00 0 023.00\n",
              "0   08/30/1982    $21,682  ...  00005931-0000475  002 00 0 024.00\n",
              "1   10/14/1981    $40,000  ...  00005816-0000873  002 00 0 024.00\n",
              "2   09/30/1968         $0  ...  00004275-0000956  002 00 0 024.00\n",
              "\n",
              "[120 rows x 5 columns]"
            ]
          },
          "metadata": {
            "tags": []
          },
          "execution_count": 24
        }
      ]
    },
    {
      "cell_type": "code",
      "metadata": {
        "id": "MUs5u3SPMThy",
        "colab_type": "code",
        "colab": {}
      },
      "source": [
        "import numpy as np\n"
      ],
      "execution_count": 0,
      "outputs": []
    },
    {
      "cell_type": "code",
      "metadata": {
        "id": "aXunJ6e2KB2F",
        "colab_type": "code",
        "outputId": "6cc702ec-46e5-409f-dbb9-51b89df9b0f6",
        "colab": {
          "base_uri": "https://localhost:8080/",
          "height": 34
        }
      },
      "source": [
        "url = 'http://www.padctn.org/prc/property/1000000/card/1000000/historical'\n",
        "t = pd.read_html(requests.get(url,  headers={'User-agent': 'Mozilla/5.0'}).text,\n",
        "                      attrs={\"class\":\"table table-condensed table-bordered\"})[0]\n",
        "if np.any(t):\n",
        "  print(t)\n",
        "else:\n",
        "  print('no data')"
      ],
      "execution_count": 0,
      "outputs": [
        {
          "output_type": "stream",
          "text": [
            "no data\n"
          ],
          "name": "stdout"
        }
      ]
    },
    {
      "cell_type": "code",
      "metadata": {
        "id": "m0fp9sTJKd-Y",
        "colab_type": "code",
        "colab": {}
      },
      "source": [
        "import time"
      ],
      "execution_count": 0,
      "outputs": []
    },
    {
      "cell_type": "code",
      "metadata": {
        "id": "j_9n-5LKMgXt",
        "colab_type": "code",
        "outputId": "e7bd254e-135f-4689-8d7e-0b9f64059be1",
        "colab": {
          "base_uri": "https://localhost:8080/",
          "height": 50
        }
      },
      "source": [
        "print('before')\n",
        "time.sleep(3)\n",
        "print('after')"
      ],
      "execution_count": 0,
      "outputs": [
        {
          "output_type": "stream",
          "text": [
            "before\n",
            "after\n"
          ],
          "name": "stdout"
        }
      ]
    },
    {
      "cell_type": "code",
      "metadata": {
        "id": "jXiytkF5MmVi",
        "colab_type": "code",
        "colab": {}
      },
      "source": [
        ""
      ],
      "execution_count": 0,
      "outputs": []
    }
  ]
}